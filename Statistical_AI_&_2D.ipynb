{
  "nbformat": 4,
  "nbformat_minor": 0,
  "metadata": {
    "colab": {
      "name": "Statistical AI & 2D.ipynb",
      "provenance": [],
      "collapsed_sections": []
    },
    "kernelspec": {
      "name": "python3",
      "display_name": "Python 3"
    },
    "language_info": {
      "name": "python"
    }
  },
  "cells": [
    {
      "cell_type": "code",
      "execution_count": 28,
      "metadata": {
        "id": "rmRBLlHACJQv"
      },
      "outputs": [],
      "source": [
        "import tensorflow as tf\n",
        "from tensorflow.keras.layers import Input, Conv1D, Dense, Lambda, Flatten, Concatenate\n",
        "from tensorflow.keras import Model\n",
        "from tensorflow.keras import metrics\n",
        "from tensorflow.keras.losses import CategoricalCrossentropy\n",
        "from tensorflow.keras import utils\n",
        "from sklearn.preprocessing import StandardScaler\n",
        "import pandas as pd\n",
        "import numpy as np\n",
        "import math"
      ]
    },
    {
      "cell_type": "code",
      "source": [
        "from google.colab import drive\n",
        "drive.mount('/content/drive')"
      ],
      "metadata": {
        "colab": {
          "base_uri": "https://localhost:8080/"
        },
        "id": "vfKmPC27PrP6",
        "outputId": "adf65e86-6d60-4ce5-95c0-c4cc7de8f605"
      },
      "execution_count": 29,
      "outputs": [
        {
          "output_type": "stream",
          "name": "stdout",
          "text": [
            "Drive already mounted at /content/drive; to attempt to forcibly remount, call drive.mount(\"/content/drive\", force_remount=True).\n"
          ]
        }
      ]
    },
    {
      "cell_type": "code",
      "source": [
        "import pandas as pd\n",
        "header_list = [\"date\", \"open\", \"high\", \"low\", \"close\", \"volume\"]\n",
        "df = pd.read_csv(\"/content/drive/MyDrive/Colab Notebooks/GBP_USD.csv\")"
      ],
      "metadata": {
        "id": "uR8UeVXQFvqf"
      },
      "execution_count": 30,
      "outputs": []
    },
    {
      "cell_type": "markdown",
      "source": [
        "Including the technical analysis to this dataset"
      ],
      "metadata": {
        "id": "twP6AQqmITGm"
      }
    },
    {
      "cell_type": "code",
      "source": [
        "!python --version    # more help to install taLib  https://stackoverflow.com/questions/49648391/how-to-install-ta-lib-in-google-colab\n",
        "url = 'https://anaconda.org/conda-forge/libta-lib/0.4.0/download/linux-64/libta-lib-0.4.0-h516909a_0.tar.bz2'\n",
        "!curl -L $url | tar xj -C /usr/lib/x86_64-linux-gnu/ lib --strip-components=1\n",
        "url = 'https://anaconda.org/conda-forge/ta-lib/0.4.19/download/linux-64/ta-lib-0.4.19-py37ha21ca33_2.tar.bz2'\n",
        "!curl -L $url | tar xj -C /usr/local/lib/python3.7/dist-packages/ lib/python3.7/site-packages/talib --strip-components=3\n",
        "import talib as ta"
      ],
      "metadata": {
        "colab": {
          "base_uri": "https://localhost:8080/"
        },
        "id": "tY1hwEz3XP0l",
        "outputId": "723f2d00-73a0-4a4a-af66-216006a71278"
      },
      "execution_count": 31,
      "outputs": [
        {
          "output_type": "stream",
          "name": "stdout",
          "text": [
            "Python 3.7.13\n",
            "  % Total    % Received % Xferd  Average Speed   Time    Time     Time  Current\n",
            "                                 Dload  Upload   Total   Spent    Left  Speed\n",
            "100  4029    0  4029    0     0  17366      0 --:--:-- --:--:-- --:--:-- 17366\n",
            "100  503k  100  503k    0     0   899k      0 --:--:-- --:--:-- --:--:--  899k\n",
            "  % Total    % Received % Xferd  Average Speed   Time    Time     Time  Current\n",
            "                                 Dload  Upload   Total   Spent    Left  Speed\n",
            "100  4069    0  4069    0     0  22480      0 --:--:-- --:--:-- --:--:-- 22605\n",
            "100  406k  100  406k    0     0   740k      0 --:--:-- --:--:-- --:--:--  740k\n"
          ]
        }
      ]
    },
    {
      "cell_type": "code",
      "source": [
        "import talib as ta\n",
        "\n",
        "def addIndicators(df):\n",
        "\n",
        "    df['RSI5'] = ta.RSI(df['close'], timeperiod=5)\n",
        "    df['RSI10'] = ta.RSI(df['close'], timeperiod=10)\n",
        "    df['RSI20'] = ta.RSI(df['close'], timeperiod=20)\n",
        "\n",
        "    df['macd'], df['macdsignal'], df['macdhist'] = ta.MACD(df['close'], \\\n",
        "                                                                 fastperiod=12, slowperiod=26, signalperiod=9)\n",
        "\n",
        "    df['slowk'], df['slowd'] = ta.STOCH(df['high'], df['low'], \\\n",
        "                                            df['close'], fastk_period=5, slowk_period=3, slowk_matype=0,\n",
        "                                            slowd_period=3, slowd_matype=0)\n",
        "    df['fastk'], df['fastd'] = ta.STOCHF(df['high'], df['low'], \\\n",
        "                                             df['close'], fastk_period=5, fastd_period=3, fastd_matype=0)\n",
        "\n",
        "    df['WR5'] = ta.WILLR(df['high'], df['low'], df['close'], timeperiod=5)\n",
        "    df['WR10'] = ta.WILLR(df['high'], df['low'], df['close'], timeperiod=10)\n",
        "    df['WR20'] = ta.WILLR(df['high'], df['low'], df['close'], timeperiod=20)\n",
        "\n",
        "    df['ROC5'] = ta.ROC(df['close'], timeperiod=5)\n",
        "    df['ROC10'] = ta.ROC(df['close'], timeperiod=10)\n",
        "    df['ROC20'] = ta.ROC(df['close'], timeperiod=20)\n",
        "\n",
        "\n",
        "    df['CCI5'] = ta.CCI(df['high'], df['low'], df['close'], timeperiod=5)\n",
        "    df['CCI10'] = ta.CCI(df['high'], df['low'], df['close'], timeperiod=10)\n",
        "    df['CCI20'] = ta.CCI(df['high'], df['low'], df['close'], timeperiod=20)\n",
        "\n",
        "    df['ATR5'] = ta.ATR(df['high'], df['low'], df['close'], timeperiod=5)\n",
        "    df['ATR10'] = ta.ATR(df['high'], df['low'], df['close'], timeperiod=10)\n",
        "    df['ATR20'] = ta.ATR(df['high'], df['low'], df['close'], timeperiod=20)\n",
        "\n",
        "    df['NATR5'] = ta.NATR(df['high'], df['low'], df['close'], timeperiod=5)\n",
        "    df['NATR10'] = ta.NATR(df['high'], df['low'], df['close'], timeperiod=10)\n",
        "    df['NATR20'] = ta.NATR(df['high'], df['low'], df['close'], timeperiod=20)\n",
        "\n",
        "    df['TRANGE'] = ta.TRANGE(df['high'], df['low'], df['close'])\n",
        "    return df\n",
        "df = addIndicators(df)"
      ],
      "metadata": {
        "id": "D7mnHCN1F-qe"
      },
      "execution_count": 32,
      "outputs": []
    },
    {
      "cell_type": "code",
      "source": [
        "df.describe()"
      ],
      "metadata": {
        "colab": {
          "base_uri": "https://localhost:8080/",
          "height": 393
        },
        "id": "n-R72Er7GDdV",
        "outputId": "45171bc6-5cbf-4196-f515-c087e4a985f2"
      },
      "execution_count": 9,
      "outputs": [
        {
          "output_type": "execute_result",
          "data": {
            "text/plain": [
              "               index           open           high            low  \\\n",
              "count  100000.000000  100000.000000  100000.000000  100000.000000   \n",
              "mean    50000.500000       1.315367       1.315866       1.314863   \n",
              "std     28867.657797       0.065221       0.065264       0.065179   \n",
              "min         1.000000       1.196310       1.197620       1.164960   \n",
              "25%     25000.750000       1.271848       1.272280       1.271408   \n",
              "50%     50000.500000       1.303640       1.304030       1.303240   \n",
              "75%     75000.250000       1.340120       1.340780       1.339560   \n",
              "max    100000.000000       1.500760       1.501900       1.499180   \n",
              "\n",
              "               close         volume          RSI5         RSI10         RSI20  \\\n",
              "count  100000.000000  100000.000000  99995.000000  99990.000000  99980.000000   \n",
              "mean        1.315367     488.114700     50.015566     49.971070     49.922449   \n",
              "std         0.065218     665.343805     18.677930     13.457710      9.968725   \n",
              "min         1.196280       1.000000      0.966524      2.778080      6.507691   \n",
              "25%         1.271860     150.000000     36.630998     41.060099     43.467822   \n",
              "50%         1.303640     317.000000     50.069119     50.003342     49.829200   \n",
              "75%         1.340113     614.000000     63.403849     58.946837     56.455171   \n",
              "max         1.500740   33473.000000     99.410204     96.173504     88.787190   \n",
              "\n",
              "               macd  ...          CCI5         CCI10         CCI20  \\\n",
              "count  99967.000000  ...  99996.000000  99991.000000  99981.000000   \n",
              "mean      -0.000013  ...      0.222304     -0.104221     -0.166787   \n",
              "std        0.000969  ...     93.625614    105.645501    115.215069   \n",
              "min       -0.036560  ...   -166.666667   -333.333333   -666.666667   \n",
              "25%       -0.000400  ...    -83.097328    -83.333333    -83.449667   \n",
              "50%       -0.000006  ...      0.951024      0.194704      0.134320   \n",
              "75%        0.000396  ...     83.546280     83.072943     82.910135   \n",
              "max        0.009308  ...    166.666667    333.333333    639.271049   \n",
              "\n",
              "               ATR5         ATR10         ATR20         NATR5        NATR10  \\\n",
              "count  99995.000000  99990.000000  99980.000000  99995.000000  99990.000000   \n",
              "mean       0.001009      0.001009      0.001009      0.076588      0.076592   \n",
              "std        0.000701      0.000623      0.000536      0.052360      0.046442   \n",
              "min        0.000127      0.000186      0.000239      0.009512      0.013898   \n",
              "25%        0.000574      0.000629      0.000705      0.043664      0.047805   \n",
              "50%        0.000881      0.000904      0.000922      0.067250      0.069079   \n",
              "75%        0.001277      0.001244      0.001191      0.096941      0.094554   \n",
              "max        0.029304      0.023159      0.017344      2.157610      1.705181   \n",
              "\n",
              "             NATR20        TRANGE  \n",
              "count  99980.000000  99999.000000  \n",
              "mean       0.076596      0.001009  \n",
              "std        0.039781      0.000999  \n",
              "min        0.018961      0.000000  \n",
              "25%        0.053735      0.000490  \n",
              "50%        0.070348      0.000800  \n",
              "75%        0.090601      0.001260  \n",
              "max        1.295552      0.096500  \n",
              "\n",
              "[8 rows x 32 columns]"
            ],
            "text/html": [
              "\n",
              "  <div id=\"df-6d223ea6-57c1-4e9c-bbb4-3d187dff9cab\">\n",
              "    <div class=\"colab-df-container\">\n",
              "      <div>\n",
              "<style scoped>\n",
              "    .dataframe tbody tr th:only-of-type {\n",
              "        vertical-align: middle;\n",
              "    }\n",
              "\n",
              "    .dataframe tbody tr th {\n",
              "        vertical-align: top;\n",
              "    }\n",
              "\n",
              "    .dataframe thead th {\n",
              "        text-align: right;\n",
              "    }\n",
              "</style>\n",
              "<table border=\"1\" class=\"dataframe\">\n",
              "  <thead>\n",
              "    <tr style=\"text-align: right;\">\n",
              "      <th></th>\n",
              "      <th>index</th>\n",
              "      <th>open</th>\n",
              "      <th>high</th>\n",
              "      <th>low</th>\n",
              "      <th>close</th>\n",
              "      <th>volume</th>\n",
              "      <th>RSI5</th>\n",
              "      <th>RSI10</th>\n",
              "      <th>RSI20</th>\n",
              "      <th>macd</th>\n",
              "      <th>...</th>\n",
              "      <th>CCI5</th>\n",
              "      <th>CCI10</th>\n",
              "      <th>CCI20</th>\n",
              "      <th>ATR5</th>\n",
              "      <th>ATR10</th>\n",
              "      <th>ATR20</th>\n",
              "      <th>NATR5</th>\n",
              "      <th>NATR10</th>\n",
              "      <th>NATR20</th>\n",
              "      <th>TRANGE</th>\n",
              "    </tr>\n",
              "  </thead>\n",
              "  <tbody>\n",
              "    <tr>\n",
              "      <th>count</th>\n",
              "      <td>100000.000000</td>\n",
              "      <td>100000.000000</td>\n",
              "      <td>100000.000000</td>\n",
              "      <td>100000.000000</td>\n",
              "      <td>100000.000000</td>\n",
              "      <td>100000.000000</td>\n",
              "      <td>99995.000000</td>\n",
              "      <td>99990.000000</td>\n",
              "      <td>99980.000000</td>\n",
              "      <td>99967.000000</td>\n",
              "      <td>...</td>\n",
              "      <td>99996.000000</td>\n",
              "      <td>99991.000000</td>\n",
              "      <td>99981.000000</td>\n",
              "      <td>99995.000000</td>\n",
              "      <td>99990.000000</td>\n",
              "      <td>99980.000000</td>\n",
              "      <td>99995.000000</td>\n",
              "      <td>99990.000000</td>\n",
              "      <td>99980.000000</td>\n",
              "      <td>99999.000000</td>\n",
              "    </tr>\n",
              "    <tr>\n",
              "      <th>mean</th>\n",
              "      <td>50000.500000</td>\n",
              "      <td>1.315367</td>\n",
              "      <td>1.315866</td>\n",
              "      <td>1.314863</td>\n",
              "      <td>1.315367</td>\n",
              "      <td>488.114700</td>\n",
              "      <td>50.015566</td>\n",
              "      <td>49.971070</td>\n",
              "      <td>49.922449</td>\n",
              "      <td>-0.000013</td>\n",
              "      <td>...</td>\n",
              "      <td>0.222304</td>\n",
              "      <td>-0.104221</td>\n",
              "      <td>-0.166787</td>\n",
              "      <td>0.001009</td>\n",
              "      <td>0.001009</td>\n",
              "      <td>0.001009</td>\n",
              "      <td>0.076588</td>\n",
              "      <td>0.076592</td>\n",
              "      <td>0.076596</td>\n",
              "      <td>0.001009</td>\n",
              "    </tr>\n",
              "    <tr>\n",
              "      <th>std</th>\n",
              "      <td>28867.657797</td>\n",
              "      <td>0.065221</td>\n",
              "      <td>0.065264</td>\n",
              "      <td>0.065179</td>\n",
              "      <td>0.065218</td>\n",
              "      <td>665.343805</td>\n",
              "      <td>18.677930</td>\n",
              "      <td>13.457710</td>\n",
              "      <td>9.968725</td>\n",
              "      <td>0.000969</td>\n",
              "      <td>...</td>\n",
              "      <td>93.625614</td>\n",
              "      <td>105.645501</td>\n",
              "      <td>115.215069</td>\n",
              "      <td>0.000701</td>\n",
              "      <td>0.000623</td>\n",
              "      <td>0.000536</td>\n",
              "      <td>0.052360</td>\n",
              "      <td>0.046442</td>\n",
              "      <td>0.039781</td>\n",
              "      <td>0.000999</td>\n",
              "    </tr>\n",
              "    <tr>\n",
              "      <th>min</th>\n",
              "      <td>1.000000</td>\n",
              "      <td>1.196310</td>\n",
              "      <td>1.197620</td>\n",
              "      <td>1.164960</td>\n",
              "      <td>1.196280</td>\n",
              "      <td>1.000000</td>\n",
              "      <td>0.966524</td>\n",
              "      <td>2.778080</td>\n",
              "      <td>6.507691</td>\n",
              "      <td>-0.036560</td>\n",
              "      <td>...</td>\n",
              "      <td>-166.666667</td>\n",
              "      <td>-333.333333</td>\n",
              "      <td>-666.666667</td>\n",
              "      <td>0.000127</td>\n",
              "      <td>0.000186</td>\n",
              "      <td>0.000239</td>\n",
              "      <td>0.009512</td>\n",
              "      <td>0.013898</td>\n",
              "      <td>0.018961</td>\n",
              "      <td>0.000000</td>\n",
              "    </tr>\n",
              "    <tr>\n",
              "      <th>25%</th>\n",
              "      <td>25000.750000</td>\n",
              "      <td>1.271848</td>\n",
              "      <td>1.272280</td>\n",
              "      <td>1.271408</td>\n",
              "      <td>1.271860</td>\n",
              "      <td>150.000000</td>\n",
              "      <td>36.630998</td>\n",
              "      <td>41.060099</td>\n",
              "      <td>43.467822</td>\n",
              "      <td>-0.000400</td>\n",
              "      <td>...</td>\n",
              "      <td>-83.097328</td>\n",
              "      <td>-83.333333</td>\n",
              "      <td>-83.449667</td>\n",
              "      <td>0.000574</td>\n",
              "      <td>0.000629</td>\n",
              "      <td>0.000705</td>\n",
              "      <td>0.043664</td>\n",
              "      <td>0.047805</td>\n",
              "      <td>0.053735</td>\n",
              "      <td>0.000490</td>\n",
              "    </tr>\n",
              "    <tr>\n",
              "      <th>50%</th>\n",
              "      <td>50000.500000</td>\n",
              "      <td>1.303640</td>\n",
              "      <td>1.304030</td>\n",
              "      <td>1.303240</td>\n",
              "      <td>1.303640</td>\n",
              "      <td>317.000000</td>\n",
              "      <td>50.069119</td>\n",
              "      <td>50.003342</td>\n",
              "      <td>49.829200</td>\n",
              "      <td>-0.000006</td>\n",
              "      <td>...</td>\n",
              "      <td>0.951024</td>\n",
              "      <td>0.194704</td>\n",
              "      <td>0.134320</td>\n",
              "      <td>0.000881</td>\n",
              "      <td>0.000904</td>\n",
              "      <td>0.000922</td>\n",
              "      <td>0.067250</td>\n",
              "      <td>0.069079</td>\n",
              "      <td>0.070348</td>\n",
              "      <td>0.000800</td>\n",
              "    </tr>\n",
              "    <tr>\n",
              "      <th>75%</th>\n",
              "      <td>75000.250000</td>\n",
              "      <td>1.340120</td>\n",
              "      <td>1.340780</td>\n",
              "      <td>1.339560</td>\n",
              "      <td>1.340113</td>\n",
              "      <td>614.000000</td>\n",
              "      <td>63.403849</td>\n",
              "      <td>58.946837</td>\n",
              "      <td>56.455171</td>\n",
              "      <td>0.000396</td>\n",
              "      <td>...</td>\n",
              "      <td>83.546280</td>\n",
              "      <td>83.072943</td>\n",
              "      <td>82.910135</td>\n",
              "      <td>0.001277</td>\n",
              "      <td>0.001244</td>\n",
              "      <td>0.001191</td>\n",
              "      <td>0.096941</td>\n",
              "      <td>0.094554</td>\n",
              "      <td>0.090601</td>\n",
              "      <td>0.001260</td>\n",
              "    </tr>\n",
              "    <tr>\n",
              "      <th>max</th>\n",
              "      <td>100000.000000</td>\n",
              "      <td>1.500760</td>\n",
              "      <td>1.501900</td>\n",
              "      <td>1.499180</td>\n",
              "      <td>1.500740</td>\n",
              "      <td>33473.000000</td>\n",
              "      <td>99.410204</td>\n",
              "      <td>96.173504</td>\n",
              "      <td>88.787190</td>\n",
              "      <td>0.009308</td>\n",
              "      <td>...</td>\n",
              "      <td>166.666667</td>\n",
              "      <td>333.333333</td>\n",
              "      <td>639.271049</td>\n",
              "      <td>0.029304</td>\n",
              "      <td>0.023159</td>\n",
              "      <td>0.017344</td>\n",
              "      <td>2.157610</td>\n",
              "      <td>1.705181</td>\n",
              "      <td>1.295552</td>\n",
              "      <td>0.096500</td>\n",
              "    </tr>\n",
              "  </tbody>\n",
              "</table>\n",
              "<p>8 rows × 32 columns</p>\n",
              "</div>\n",
              "      <button class=\"colab-df-convert\" onclick=\"convertToInteractive('df-6d223ea6-57c1-4e9c-bbb4-3d187dff9cab')\"\n",
              "              title=\"Convert this dataframe to an interactive table.\"\n",
              "              style=\"display:none;\">\n",
              "        \n",
              "  <svg xmlns=\"http://www.w3.org/2000/svg\" height=\"24px\"viewBox=\"0 0 24 24\"\n",
              "       width=\"24px\">\n",
              "    <path d=\"M0 0h24v24H0V0z\" fill=\"none\"/>\n",
              "    <path d=\"M18.56 5.44l.94 2.06.94-2.06 2.06-.94-2.06-.94-.94-2.06-.94 2.06-2.06.94zm-11 1L8.5 8.5l.94-2.06 2.06-.94-2.06-.94L8.5 2.5l-.94 2.06-2.06.94zm10 10l.94 2.06.94-2.06 2.06-.94-2.06-.94-.94-2.06-.94 2.06-2.06.94z\"/><path d=\"M17.41 7.96l-1.37-1.37c-.4-.4-.92-.59-1.43-.59-.52 0-1.04.2-1.43.59L10.3 9.45l-7.72 7.72c-.78.78-.78 2.05 0 2.83L4 21.41c.39.39.9.59 1.41.59.51 0 1.02-.2 1.41-.59l7.78-7.78 2.81-2.81c.8-.78.8-2.07 0-2.86zM5.41 20L4 18.59l7.72-7.72 1.47 1.35L5.41 20z\"/>\n",
              "  </svg>\n",
              "      </button>\n",
              "      \n",
              "  <style>\n",
              "    .colab-df-container {\n",
              "      display:flex;\n",
              "      flex-wrap:wrap;\n",
              "      gap: 12px;\n",
              "    }\n",
              "\n",
              "    .colab-df-convert {\n",
              "      background-color: #E8F0FE;\n",
              "      border: none;\n",
              "      border-radius: 50%;\n",
              "      cursor: pointer;\n",
              "      display: none;\n",
              "      fill: #1967D2;\n",
              "      height: 32px;\n",
              "      padding: 0 0 0 0;\n",
              "      width: 32px;\n",
              "    }\n",
              "\n",
              "    .colab-df-convert:hover {\n",
              "      background-color: #E2EBFA;\n",
              "      box-shadow: 0px 1px 2px rgba(60, 64, 67, 0.3), 0px 1px 3px 1px rgba(60, 64, 67, 0.15);\n",
              "      fill: #174EA6;\n",
              "    }\n",
              "\n",
              "    [theme=dark] .colab-df-convert {\n",
              "      background-color: #3B4455;\n",
              "      fill: #D2E3FC;\n",
              "    }\n",
              "\n",
              "    [theme=dark] .colab-df-convert:hover {\n",
              "      background-color: #434B5C;\n",
              "      box-shadow: 0px 1px 3px 1px rgba(0, 0, 0, 0.15);\n",
              "      filter: drop-shadow(0px 1px 2px rgba(0, 0, 0, 0.3));\n",
              "      fill: #FFFFFF;\n",
              "    }\n",
              "  </style>\n",
              "\n",
              "      <script>\n",
              "        const buttonEl =\n",
              "          document.querySelector('#df-6d223ea6-57c1-4e9c-bbb4-3d187dff9cab button.colab-df-convert');\n",
              "        buttonEl.style.display =\n",
              "          google.colab.kernel.accessAllowed ? 'block' : 'none';\n",
              "\n",
              "        async function convertToInteractive(key) {\n",
              "          const element = document.querySelector('#df-6d223ea6-57c1-4e9c-bbb4-3d187dff9cab');\n",
              "          const dataTable =\n",
              "            await google.colab.kernel.invokeFunction('convertToInteractive',\n",
              "                                                     [key], {});\n",
              "          if (!dataTable) return;\n",
              "\n",
              "          const docLinkHtml = 'Like what you see? Visit the ' +\n",
              "            '<a target=\"_blank\" href=https://colab.research.google.com/notebooks/data_table.ipynb>data table notebook</a>'\n",
              "            + ' to learn more about interactive tables.';\n",
              "          element.innerHTML = '';\n",
              "          dataTable['output_type'] = 'display_data';\n",
              "          await google.colab.output.renderOutput(dataTable, element);\n",
              "          const docLink = document.createElement('div');\n",
              "          docLink.innerHTML = docLinkHtml;\n",
              "          element.appendChild(docLink);\n",
              "        }\n",
              "      </script>\n",
              "    </div>\n",
              "  </div>\n",
              "  "
            ]
          },
          "metadata": {},
          "execution_count": 9
        }
      ]
    },
    {
      "cell_type": "code",
      "source": [
        "df.dtypes"
      ],
      "metadata": {
        "colab": {
          "base_uri": "https://localhost:8080/"
        },
        "id": "Z9eanO1BGHU_",
        "outputId": "0a6cef6b-1a38-489b-a50b-c9f7bec3bacd"
      },
      "execution_count": 5,
      "outputs": [
        {
          "output_type": "execute_result",
          "data": {
            "text/plain": [
              "open      object\n",
              "high      object\n",
              "low       object\n",
              "close     object\n",
              "volume    object\n",
              "dtype: object"
            ]
          },
          "metadata": {},
          "execution_count": 5
        }
      ]
    },
    {
      "cell_type": "code",
      "source": [
        "df.shape"
      ],
      "metadata": {
        "colab": {
          "base_uri": "https://localhost:8080/"
        },
        "id": "Jizp2wOGGLgV",
        "outputId": "860ca086-0392-4328-eb1a-88134314c299"
      },
      "execution_count": 13,
      "outputs": [
        {
          "output_type": "execute_result",
          "data": {
            "text/plain": [
              "(100000, 32)"
            ]
          },
          "metadata": {},
          "execution_count": 13
        }
      ]
    },
    {
      "cell_type": "markdown",
      "source": [
        "Now, we need to remove the NAN values from our dataset "
      ],
      "metadata": {
        "id": "aVbKqQXnG_Lf"
      }
    },
    {
      "cell_type": "code",
      "source": [
        "df.bfill(inplace=True)"
      ],
      "metadata": {
        "id": "B2jm1OraHEI-"
      },
      "execution_count": 33,
      "outputs": []
    },
    {
      "cell_type": "code",
      "source": [
        "df.isnull().sum() #checking NAN values "
      ],
      "metadata": {
        "colab": {
          "base_uri": "https://localhost:8080/"
        },
        "id": "MoFAJN-FHI4O",
        "outputId": "b9dccbca-0fa5-456f-c401-9abe33dd5972"
      },
      "execution_count": 34,
      "outputs": [
        {
          "output_type": "execute_result",
          "data": {
            "text/plain": [
              "index         0\n",
              "date          0\n",
              "open          0\n",
              "high          0\n",
              "low           0\n",
              "close         0\n",
              "volume        0\n",
              "RSI5          0\n",
              "RSI10         0\n",
              "RSI20         0\n",
              "macd          0\n",
              "macdsignal    0\n",
              "macdhist      0\n",
              "slowk         0\n",
              "slowd         0\n",
              "fastk         0\n",
              "fastd         0\n",
              "WR5           0\n",
              "WR10          0\n",
              "WR20          0\n",
              "ROC5          0\n",
              "ROC10         0\n",
              "ROC20         0\n",
              "CCI5          0\n",
              "CCI10         0\n",
              "CCI20         0\n",
              "ATR5          0\n",
              "ATR10         0\n",
              "ATR20         0\n",
              "NATR5         0\n",
              "NATR10        0\n",
              "NATR20        0\n",
              "TRANGE        0\n",
              "dtype: int64"
            ]
          },
          "metadata": {},
          "execution_count": 34
        }
      ]
    },
    {
      "cell_type": "markdown",
      "source": [
        "separating the dataset by selecting the important technical analysis "
      ],
      "metadata": {
        "id": "i8XPJAfBIGVW"
      }
    },
    {
      "cell_type": "code",
      "source": [
        "df1 = []\n",
        "df1 = df.loc[:, [\"date\",\"close\",\"macd\",\"ROC5\"]]"
      ],
      "metadata": {
        "id": "rITZ8OHlIFom"
      },
      "execution_count": 100,
      "outputs": []
    },
    {
      "cell_type": "code",
      "source": [
        "df1.dtypes"
      ],
      "metadata": {
        "colab": {
          "base_uri": "https://localhost:8080/"
        },
        "id": "xA49k3sbIFv2",
        "outputId": "1523ed75-5a8f-4175-a2ff-e1c8524a4e2c"
      },
      "execution_count": 13,
      "outputs": [
        {
          "output_type": "execute_result",
          "data": {
            "text/plain": [
              "date      object\n",
              "close    float64\n",
              "macd     float64\n",
              "ROC5     float64\n",
              "dtype: object"
            ]
          },
          "metadata": {},
          "execution_count": 13
        }
      ]
    },
    {
      "cell_type": "code",
      "source": [
        "df1.shape"
      ],
      "metadata": {
        "colab": {
          "base_uri": "https://localhost:8080/"
        },
        "id": "5prkAmg5Ik0V",
        "outputId": "fccf219c-d309-4387-a318-fe36f1acb59d"
      },
      "execution_count": 18,
      "outputs": [
        {
          "output_type": "execute_result",
          "data": {
            "text/plain": [
              "(100000, 4)"
            ]
          },
          "metadata": {},
          "execution_count": 18
        }
      ]
    },
    {
      "cell_type": "code",
      "source": [
        "df1['date'] = pd.to_datetime(df1['date'])\n",
        "df1.head()"
      ],
      "metadata": {
        "colab": {
          "base_uri": "https://localhost:8080/",
          "height": 206
        },
        "id": "ExipURPnIpp9",
        "outputId": "463bd5d8-aa3b-4886-a205-ece6be81f329"
      },
      "execution_count": 101,
      "outputs": [
        {
          "output_type": "execute_result",
          "data": {
            "text/plain": [
              "                       date    close      macd      ROC5\n",
              "0 2015-12-18 16:30:00+00:00  1.49030  0.000221 -0.042944\n",
              "1 2015-12-18 16:45:00+00:00  1.49108  0.000221 -0.042944\n",
              "2 2015-12-18 17:00:00+00:00  1.49041  0.000221 -0.042944\n",
              "3 2015-12-18 17:15:00+00:00  1.48994  0.000221 -0.042944\n",
              "4 2015-12-18 17:30:00+00:00  1.49010  0.000221 -0.042944"
            ],
            "text/html": [
              "\n",
              "  <div id=\"df-cc12e327-940b-4bab-b7e0-bd76432689f3\">\n",
              "    <div class=\"colab-df-container\">\n",
              "      <div>\n",
              "<style scoped>\n",
              "    .dataframe tbody tr th:only-of-type {\n",
              "        vertical-align: middle;\n",
              "    }\n",
              "\n",
              "    .dataframe tbody tr th {\n",
              "        vertical-align: top;\n",
              "    }\n",
              "\n",
              "    .dataframe thead th {\n",
              "        text-align: right;\n",
              "    }\n",
              "</style>\n",
              "<table border=\"1\" class=\"dataframe\">\n",
              "  <thead>\n",
              "    <tr style=\"text-align: right;\">\n",
              "      <th></th>\n",
              "      <th>date</th>\n",
              "      <th>close</th>\n",
              "      <th>macd</th>\n",
              "      <th>ROC5</th>\n",
              "    </tr>\n",
              "  </thead>\n",
              "  <tbody>\n",
              "    <tr>\n",
              "      <th>0</th>\n",
              "      <td>2015-12-18 16:30:00+00:00</td>\n",
              "      <td>1.49030</td>\n",
              "      <td>0.000221</td>\n",
              "      <td>-0.042944</td>\n",
              "    </tr>\n",
              "    <tr>\n",
              "      <th>1</th>\n",
              "      <td>2015-12-18 16:45:00+00:00</td>\n",
              "      <td>1.49108</td>\n",
              "      <td>0.000221</td>\n",
              "      <td>-0.042944</td>\n",
              "    </tr>\n",
              "    <tr>\n",
              "      <th>2</th>\n",
              "      <td>2015-12-18 17:00:00+00:00</td>\n",
              "      <td>1.49041</td>\n",
              "      <td>0.000221</td>\n",
              "      <td>-0.042944</td>\n",
              "    </tr>\n",
              "    <tr>\n",
              "      <th>3</th>\n",
              "      <td>2015-12-18 17:15:00+00:00</td>\n",
              "      <td>1.48994</td>\n",
              "      <td>0.000221</td>\n",
              "      <td>-0.042944</td>\n",
              "    </tr>\n",
              "    <tr>\n",
              "      <th>4</th>\n",
              "      <td>2015-12-18 17:30:00+00:00</td>\n",
              "      <td>1.49010</td>\n",
              "      <td>0.000221</td>\n",
              "      <td>-0.042944</td>\n",
              "    </tr>\n",
              "  </tbody>\n",
              "</table>\n",
              "</div>\n",
              "      <button class=\"colab-df-convert\" onclick=\"convertToInteractive('df-cc12e327-940b-4bab-b7e0-bd76432689f3')\"\n",
              "              title=\"Convert this dataframe to an interactive table.\"\n",
              "              style=\"display:none;\">\n",
              "        \n",
              "  <svg xmlns=\"http://www.w3.org/2000/svg\" height=\"24px\"viewBox=\"0 0 24 24\"\n",
              "       width=\"24px\">\n",
              "    <path d=\"M0 0h24v24H0V0z\" fill=\"none\"/>\n",
              "    <path d=\"M18.56 5.44l.94 2.06.94-2.06 2.06-.94-2.06-.94-.94-2.06-.94 2.06-2.06.94zm-11 1L8.5 8.5l.94-2.06 2.06-.94-2.06-.94L8.5 2.5l-.94 2.06-2.06.94zm10 10l.94 2.06.94-2.06 2.06-.94-2.06-.94-.94-2.06-.94 2.06-2.06.94z\"/><path d=\"M17.41 7.96l-1.37-1.37c-.4-.4-.92-.59-1.43-.59-.52 0-1.04.2-1.43.59L10.3 9.45l-7.72 7.72c-.78.78-.78 2.05 0 2.83L4 21.41c.39.39.9.59 1.41.59.51 0 1.02-.2 1.41-.59l7.78-7.78 2.81-2.81c.8-.78.8-2.07 0-2.86zM5.41 20L4 18.59l7.72-7.72 1.47 1.35L5.41 20z\"/>\n",
              "  </svg>\n",
              "      </button>\n",
              "      \n",
              "  <style>\n",
              "    .colab-df-container {\n",
              "      display:flex;\n",
              "      flex-wrap:wrap;\n",
              "      gap: 12px;\n",
              "    }\n",
              "\n",
              "    .colab-df-convert {\n",
              "      background-color: #E8F0FE;\n",
              "      border: none;\n",
              "      border-radius: 50%;\n",
              "      cursor: pointer;\n",
              "      display: none;\n",
              "      fill: #1967D2;\n",
              "      height: 32px;\n",
              "      padding: 0 0 0 0;\n",
              "      width: 32px;\n",
              "    }\n",
              "\n",
              "    .colab-df-convert:hover {\n",
              "      background-color: #E2EBFA;\n",
              "      box-shadow: 0px 1px 2px rgba(60, 64, 67, 0.3), 0px 1px 3px 1px rgba(60, 64, 67, 0.15);\n",
              "      fill: #174EA6;\n",
              "    }\n",
              "\n",
              "    [theme=dark] .colab-df-convert {\n",
              "      background-color: #3B4455;\n",
              "      fill: #D2E3FC;\n",
              "    }\n",
              "\n",
              "    [theme=dark] .colab-df-convert:hover {\n",
              "      background-color: #434B5C;\n",
              "      box-shadow: 0px 1px 3px 1px rgba(0, 0, 0, 0.15);\n",
              "      filter: drop-shadow(0px 1px 2px rgba(0, 0, 0, 0.3));\n",
              "      fill: #FFFFFF;\n",
              "    }\n",
              "  </style>\n",
              "\n",
              "      <script>\n",
              "        const buttonEl =\n",
              "          document.querySelector('#df-cc12e327-940b-4bab-b7e0-bd76432689f3 button.colab-df-convert');\n",
              "        buttonEl.style.display =\n",
              "          google.colab.kernel.accessAllowed ? 'block' : 'none';\n",
              "\n",
              "        async function convertToInteractive(key) {\n",
              "          const element = document.querySelector('#df-cc12e327-940b-4bab-b7e0-bd76432689f3');\n",
              "          const dataTable =\n",
              "            await google.colab.kernel.invokeFunction('convertToInteractive',\n",
              "                                                     [key], {});\n",
              "          if (!dataTable) return;\n",
              "\n",
              "          const docLinkHtml = 'Like what you see? Visit the ' +\n",
              "            '<a target=\"_blank\" href=https://colab.research.google.com/notebooks/data_table.ipynb>data table notebook</a>'\n",
              "            + ' to learn more about interactive tables.';\n",
              "          element.innerHTML = '';\n",
              "          dataTable['output_type'] = 'display_data';\n",
              "          await google.colab.output.renderOutput(dataTable, element);\n",
              "          const docLink = document.createElement('div');\n",
              "          docLink.innerHTML = docLinkHtml;\n",
              "          element.appendChild(docLink);\n",
              "        }\n",
              "      </script>\n",
              "    </div>\n",
              "  </div>\n",
              "  "
            ]
          },
          "metadata": {},
          "execution_count": 101
        }
      ]
    },
    {
      "cell_type": "code",
      "source": [
        "df1['date'] = df1.index"
      ],
      "metadata": {
        "id": "6Puvgg7W18uu"
      },
      "execution_count": 102,
      "outputs": []
    },
    {
      "cell_type": "code",
      "source": [
        "%matplotlib inline\n",
        "import matplotlib.pyplot as plt\n",
        "\n",
        "fig = plt.figure(figsize = (10,6))\n",
        "ax1 = fig.add_axes([0,0,1,1])\n",
        "ax2 = fig.add_axes([0.05,0.65,0.5,0.3])\n",
        "\n",
        "ax1.set_title('close vs macd')\n",
        "ax1.plot(df1['date'],df1['close'],color ='green',label = 'slowd')\n",
        "ax2.plot(df1['date'],df1['macd'],color ='orange',label = 'macd')\n",
        "plt.show()"
      ],
      "metadata": {
        "colab": {
          "base_uri": "https://localhost:8080/",
          "height": 496
        },
        "id": "-iVkRBSQIvvn",
        "outputId": "e3716958-4d61-4ca9-e0c2-4e5579aa33f6"
      },
      "execution_count": 48,
      "outputs": [
        {
          "output_type": "display_data",
          "data": {
            "text/plain": [
              "<Figure size 720x432 with 2 Axes>"
            ],
            "image/png": "[encoded data removed]"
          },
          "metadata": {
            "needs_background": "light"
          }
        }
      ]
    },
    {
      "cell_type": "code",
      "source": [
        "%matplotlib inline\n",
        "import matplotlib.pyplot as plt\n",
        "import matplotlib.patches as mpatches\n",
        "start,end,n_bins = 0,10,100\n",
        "_,_,_ = plt.hist(df1['close'], bins=n_bins, range=(start,end), color='blue')\n",
        "_,_,_ = plt.hist(df1['ROC5'], bins=n_bins, range=(start,end), color='red')\n",
        "_,_,_ = plt.hist(df1['macd'], bins=n_bins, range=(start,end), color='orange')\n",
        "_ = plt.legend(handles=[mpatches.Patch(color='blue', label='close'),\n",
        "                    mpatches.Patch(color='red', label='ROC5'),\n",
        "                    mpatches.Patch(color='orange', label='macd')])\n",
        "_ = plt.xlabel('Number of texts per day (t)')\n",
        "_ = plt.ylabel('Number of responses for t')"
      ],
      "metadata": {
        "colab": {
          "base_uri": "https://localhost:8080/",
          "height": 279
        },
        "id": "nHBgr-_FJwjQ",
        "outputId": "b3995cf1-d0b1-4e3b-d29e-26f45adbd204"
      },
      "execution_count": 49,
      "outputs": [
        {
          "output_type": "display_data",
          "data": {
            "text/plain": [
              "<Figure size 432x288 with 1 Axes>"
            ],
            "image/png": "[encoded data removed]"
          },
          "metadata": {
            "needs_background": "light"
          }
        }
      ]
    },
    {
      "cell_type": "code",
      "source": [
        "fig = plt.figure(figsize = (15,7))\n",
        "\n",
        "fig.suptitle('stock price comparison',fontsize = 20)\n",
        "\n",
        "ax1 = fig.add_subplot(231)\n",
        "ax1.set_title('macd')\n",
        "\n",
        "ax1.plot(df1['date'],df1['macd'],color ='green')\n",
        "\n",
        "ax2 = fig.add_subplot(232)\n",
        "ax2.set_title('close')\n",
        "\n",
        "ax2.plot(df1['date'],df1['close'],color ='magenta')\n",
        "\n",
        "ax3 = fig.add_subplot(233)\n",
        "ax3.set_title('ROC5')\n",
        "\n",
        "ax3.plot(df1['date'],df1['ROC5'],color ='orange')\n"
      ],
      "metadata": {
        "colab": {
          "base_uri": "https://localhost:8080/",
          "height": 289
        },
        "id": "HXldLcClMDyO",
        "outputId": "f6f10b54-17d1-4cfa-c9a2-5a9b394f018c"
      },
      "execution_count": 50,
      "outputs": [
        {
          "output_type": "execute_result",
          "data": {
            "text/plain": [
              "[<matplotlib.lines.Line2D at 0x7f74857f0790>]"
            ]
          },
          "metadata": {},
          "execution_count": 50
        },
        {
          "output_type": "display_data",
          "data": {
            "text/plain": [
              "<Figure size 1080x504 with 3 Axes>"
            ],
            "image/png": "[encoded data removed]"
          },
          "metadata": {
            "needs_background": "light"
          }
        }
      ]
    },
    {
      "cell_type": "code",
      "source": [
        "from statsmodels.graphics.tsaplots import plot_acf\n",
        "plot_acf(df1.macd)"
      ],
      "metadata": {
        "colab": {
          "base_uri": "https://localhost:8080/",
          "height": 581
        },
        "id": "Ys0XWpPZNCu5",
        "outputId": "445156d4-a46b-4aca-b40e-52b782949fa5"
      },
      "execution_count": 51,
      "outputs": [
        {
          "output_type": "stream",
          "name": "stderr",
          "text": [
            "/usr/local/lib/python3.7/dist-packages/statsmodels/tools/_testing.py:19: FutureWarning: pandas.util.testing is deprecated. Use the functions in the public API at pandas.testing instead.\n",
            "  import pandas.util.testing as tm\n"
          ]
        },
        {
          "output_type": "execute_result",
          "data": {
            "text/plain": [
              "<Figure size 432x288 with 1 Axes>"
            ],
            "image/png": "[encoded data removed]"
          },
          "metadata": {},
          "execution_count": 51
        },
        {
          "output_type": "display_data",
          "data": {
            "text/plain": [
              "<Figure size 432x288 with 1 Axes>"
            ],
            "image/png": "[encoded data removed]"
          },
          "metadata": {
            "needs_background": "light"
          }
        }
      ]
    },
    {
      "cell_type": "code",
      "source": [
        "from statsmodels.graphics.tsaplots import plot_acf\n",
        "plot_acf(df1.ROC5)"
      ],
      "metadata": {
        "colab": {
          "base_uri": "https://localhost:8080/",
          "height": 545
        },
        "id": "kzNGcjVVPe1-",
        "outputId": "8792b138-f509-4ab4-cf79-65b3802b84c2"
      },
      "execution_count": 52,
      "outputs": [
        {
          "output_type": "execute_result",
          "data": {
            "text/plain": [
              "<Figure size 432x288 with 1 Axes>"
            ],
            "image/png": "[encoded data removed]"
          },
          "metadata": {},
          "execution_count": 52
        },
        {
          "output_type": "display_data",
          "data": {
            "text/plain": [
              "<Figure size 432x288 with 1 Axes>"
            ],
            "image/png": "[encoded data removed]"
          },
          "metadata": {
            "needs_background": "light"
          }
        }
      ]
    },
    {
      "cell_type": "code",
      "source": [
        "from statsmodels.graphics.tsaplots import plot_acf\n",
        "plot_acf(df1.close)"
      ],
      "metadata": {
        "colab": {
          "base_uri": "https://localhost:8080/",
          "height": 545
        },
        "id": "ittAhygZPuED",
        "outputId": "a2a019f8-109d-4fc3-fff1-392cd7378e6d"
      },
      "execution_count": null,
      "outputs": [
        {
          "output_type": "execute_result",
          "data": {
            "text/plain": [
              "<Figure size 432x288 with 1 Axes>"
            ],
            "image/png": "[encoded data removed]"
          },
          "metadata": {},
          "execution_count": 30
        },
        {
          "output_type": "display_data",
          "data": {
            "text/plain": [
              "<Figure size 432x288 with 1 Axes>"
            ],
            "image/png": "[encoded data removed]"
          },
          "metadata": {
            "needs_background": "light"
          }
        }
      ]
    },
    {
      "cell_type": "code",
      "source": [
        "x = df1['close']"
      ],
      "metadata": {
        "id": "634cflCV-H_l"
      },
      "execution_count": 113,
      "outputs": []
    },
    {
      "cell_type": "code",
      "source": [
        "returns = x.pct_change(1).dropna() #using the one-day lag"
      ],
      "metadata": {
        "id": "D4kQOh_89w48"
      },
      "execution_count": 114,
      "outputs": []
    },
    {
      "cell_type": "code",
      "source": [
        "plt.hist(returns,bins=\"rice\",label=\"Daily close price\")\n",
        "plt.legend()\n",
        "plt.show()"
      ],
      "metadata": {
        "colab": {
          "base_uri": "https://localhost:8080/",
          "height": 265
        },
        "id": "lvt9AA079yxq",
        "outputId": "98b832e4-ae83-413d-da36-fb59bf41ad77"
      },
      "execution_count": 115,
      "outputs": [
        {
          "output_type": "display_data",
          "data": {
            "text/plain": [
              "<Figure size 432x288 with 1 Axes>"
            ],
            "image/png": "[encoded data removed]"
          },
          "metadata": {
            "needs_background": "light"
          }
        }
      ]
    },
    {
      "cell_type": "code",
      "source": [
        "np.mean(returns) #its a bad sign "
      ],
      "metadata": {
        "colab": {
          "base_uri": "https://localhost:8080/"
        },
        "id": "y5fvjeym9lV7",
        "outputId": "870a75d0-72b6-4325-f207-c81640c6873e"
      },
      "execution_count": 116,
      "outputs": [
        {
          "output_type": "execute_result",
          "data": {
            "text/plain": [
              "-1.0743255683099542e-06"
            ]
          },
          "metadata": {},
          "execution_count": 116
        }
      ]
    },
    {
      "cell_type": "code",
      "source": [
        "np.std(returns)#magnitude higher than mean value. SD is the measure of risk "
      ],
      "metadata": {
        "colab": {
          "base_uri": "https://localhost:8080/"
        },
        "id": "KYB_hInt9oUI",
        "outputId": "5fb38cc9-f236-49d7-b7c7-e41e66be18b2"
      },
      "execution_count": 117,
      "outputs": [
        {
          "output_type": "execute_result",
          "data": {
            "text/plain": [
              "0.0006421196659628792"
            ]
          },
          "metadata": {},
          "execution_count": 117
        }
      ]
    },
    {
      "cell_type": "code",
      "source": [
        "np.quantile(returns,0.5) # The theoretical 0% quantile of the normal distribution is indeed -Inf. For the exponential distribution it would be 0."
      ],
      "metadata": {
        "colab": {
          "base_uri": "https://localhost:8080/"
        },
        "id": "aYJo_5CO9rtQ",
        "outputId": "72ded4aa-c41e-4542-e2a5-6da40d8188df"
      },
      "execution_count": 118,
      "outputs": [
        {
          "output_type": "execute_result",
          "data": {
            "text/plain": [
              "0.0"
            ]
          },
          "metadata": {},
          "execution_count": 118
        }
      ]
    },
    {
      "cell_type": "code",
      "source": [
        "np.quantile(returns,0.5) # The theoretical 0% quantile of the normal distribution is indeed -Inf. For the exponential distribution it would be 0."
      ],
      "metadata": {
        "colab": {
          "base_uri": "https://localhost:8080/"
        },
        "id": "BnQ5o21C932z",
        "outputId": "c347eaf1-1489-412c-ff63-c3fcd1c7792d"
      },
      "execution_count": 119,
      "outputs": [
        {
          "output_type": "execute_result",
          "data": {
            "text/plain": [
              "0.0"
            ]
          },
          "metadata": {},
          "execution_count": 119
        }
      ]
    },
    {
      "cell_type": "code",
      "source": [
        "from scipy.stats import norm\n",
        "t = np.linspace(0.01,0.99,1000)\n",
        "q1 = np.quantile(returns,t)\n",
        "q2 = norm.ppf(t,loc=np.mean(returns),scale=np.std(returns))\n",
        "plt.plot(q1,q2)\n",
        "plt.plot([min(q1),max(q1)],[min(q2),max(q2)])\n",
        "plt.xlim((min(q1),max(q1)))\n",
        "plt.ylim((min(q2),max(q2)))\n",
        "plt.xlabel(\"Daily returns\")\n",
        "plt.ylabel(\"Normal distribution\")\n",
        "plt.show()"
      ],
      "metadata": {
        "colab": {
          "base_uri": "https://localhost:8080/",
          "height": 279
        },
        "id": "96vFIo-09WMU",
        "outputId": "a5964758-f387-494e-ce38-79e52b64f36a"
      },
      "execution_count": 122,
      "outputs": [
        {
          "output_type": "display_data",
          "data": {
            "text/plain": [
              "<Figure size 432x288 with 1 Axes>"
            ],
            "image/png": "[encoded data removed]"
          },
          "metadata": {
            "needs_background": "light"
          }
        }
      ]
    },
    {
      "cell_type": "code",
      "source": [
        "plt.plot(returns)\n",
        "plt.xlabel(\"Time\")\n",
        "plt.ylabel(\"Daily returns\")\n",
        "plt.show()"
      ],
      "metadata": {
        "colab": {
          "base_uri": "https://localhost:8080/",
          "height": 279
        },
        "id": "WwH1zkd8-B3R",
        "outputId": "7223748e-1386-442e-897e-c4b0683b64bc"
      },
      "execution_count": 123,
      "outputs": [
        {
          "output_type": "display_data",
          "data": {
            "text/plain": [
              "<Figure size 432x288 with 1 Axes>"
            ],
            "image/png": "[encoded data removed]"
          },
          "metadata": {
            "needs_background": "light"
          }
        }
      ]
    },
    {
      "cell_type": "code",
      "source": [
        "plt.plot(returns.rolling(20).std())\n",
        "plt.xlabel(\"Time\")\n",
        "plt.ylabel(\"20-days rolling standard deviation\")\n",
        "plt.show()"
      ],
      "metadata": {
        "colab": {
          "base_uri": "https://localhost:8080/",
          "height": 279
        },
        "id": "2a9yCbQO-DpF",
        "outputId": "64948fa3-ac1a-4c3f-8357-71077e146f83"
      },
      "execution_count": 124,
      "outputs": [
        {
          "output_type": "display_data",
          "data": {
            "text/plain": [
              "<Figure size 432x288 with 1 Axes>"
            ],
            "image/png": "[encoded data removed]"
          },
          "metadata": {
            "needs_background": "light"
          }
        }
      ]
    },
    {
      "cell_type": "code",
      "source": [
        "f = plt.figure()\n",
        "ax1 = f.add_subplot (121) \n",
        "ax1.set_title('1st Order Differencing')\n",
        "ax1.plot(df1.macd.diff())\n",
        "\n",
        "ax2 = f.add_subplot (122)\n",
        "plot_acf(df1.macd.diff().dropna(), ax=ax2)\n",
        "plt.show()"
      ],
      "metadata": {
        "colab": {
          "base_uri": "https://localhost:8080/",
          "height": 281
        },
        "id": "VnTg9C37P5MD",
        "outputId": "7c5eda94-bb14-4ea0-dfc7-7b1fbb9ff192"
      },
      "execution_count": 53,
      "outputs": [
        {
          "output_type": "display_data",
          "data": {
            "text/plain": [
              "<Figure size 432x288 with 2 Axes>"
            ],
            "image/png": "[encoded data removed]"
          },
          "metadata": {
            "needs_background": "light"
          }
        }
      ]
    },
    {
      "cell_type": "code",
      "source": [
        "f = plt.figure()\n",
        "ax1 = f.add_subplot (121)\n",
        "ax1.set_title('2nd Order Differencing')\n",
        "ax1.plot(df1.macd.diff().diff())\n",
        "\n",
        "ax2 = f.add_subplot (122)\n",
        "plot_acf(df1.macd.diff().diff().dropna (), ax=ax2)\n",
        "plt.show()"
      ],
      "metadata": {
        "colab": {
          "base_uri": "https://localhost:8080/",
          "height": 281
        },
        "id": "4JsIpkjgP5PK",
        "outputId": "d6d17951-06e9-4b72-f1a3-a68d81c5c792"
      },
      "execution_count": 54,
      "outputs": [
        {
          "output_type": "display_data",
          "data": {
            "text/plain": [
              "<Figure size 432x288 with 2 Axes>"
            ],
            "image/png": "[encoded data removed]"
          },
          "metadata": {
            "needs_background": "light"
          }
        }
      ]
    },
    {
      "cell_type": "markdown",
      "source": [
        "Stack plot and stem plot \n",
        "\n",
        "```\n",
        "# This is formatted as code\n",
        "```\n",
        "\n"
      ],
      "metadata": {
        "id": "eEx079KuSN-E"
      }
    },
    {
      "cell_type": "code",
      "source": [
        "x = df1['datetime']\n",
        "\n",
        "y = np.vstack([df1['close'],df1['macd'],df1['ROC5']])"
      ],
      "metadata": {
        "id": "42J9VnOLV-tm"
      },
      "execution_count": null,
      "outputs": []
    },
    {
      "cell_type": "code",
      "source": [
        "labels = ['close','macd','ROC5']\n",
        "\n",
        "colors = ['sandybrown','skyblue','orange']\n",
        "\n",
        "plt.stackplot(x,y,labels=labels,colors=colors,edgecolor='black')\n",
        "\n",
        "plt.legend(loc=2)\n",
        "\n",
        "plt.show()"
      ],
      "metadata": {
        "colab": {
          "base_uri": "https://localhost:8080/",
          "height": 265
        },
        "id": "J1SIJjl3XBFF",
        "outputId": "f6485485-9deb-45c2-dc7b-93c88dffd408"
      },
      "execution_count": null,
      "outputs": [
        {
          "output_type": "display_data",
          "data": {
            "text/plain": [
              "<Figure size 432x288 with 1 Axes>"
            ],
            "image/png": "[encoded data removed]"
          },
          "metadata": {
            "needs_background": "light"
          }
        }
      ]
    },
    {
      "cell_type": "markdown",
      "source": [
        "Scatter plot "
      ],
      "metadata": {
        "id": "7W_36TiCX0ud"
      }
    },
    {
      "cell_type": "code",
      "source": [
        "plt.scatter(df1['close'],df1['macd'])\n",
        "plt.title('Close vs Macd')\n",
        "plt.xlabel('macd')\n",
        "plt.ylabel('close')\n",
        "plt.show()"
      ],
      "metadata": {
        "colab": {
          "base_uri": "https://localhost:8080/",
          "height": 295
        },
        "id": "-S0ai9wfXzvc",
        "outputId": "fe28fe76-ad79-43ac-d95d-df5de2b1ba82"
      },
      "execution_count": null,
      "outputs": [
        {
          "output_type": "display_data",
          "data": {
            "text/plain": [
              "<Figure size 432x288 with 1 Axes>"
            ],
            "image/png": "[encoded data removed]"
          },
          "metadata": {
            "needs_background": "light"
          }
        }
      ]
    },
    {
      "cell_type": "code",
      "source": [
        "plt.scatter(df1['close'],df1['ROC5'])\n",
        "plt.title('close vs ROC5')\n",
        "plt.xlabel('ROC5')\n",
        "plt.ylabel('close')\n",
        "plt.show()"
      ],
      "metadata": {
        "colab": {
          "base_uri": "https://localhost:8080/",
          "height": 295
        },
        "id": "fP5S4sWNYmOj",
        "outputId": "908aa0e6-7aaa-42fb-8b18-a9a7cc97b676"
      },
      "execution_count": null,
      "outputs": [
        {
          "output_type": "display_data",
          "data": {
            "text/plain": [
              "<Figure size 432x288 with 1 Axes>"
            ],
            "image/png": "[encoded data removed]"
          },
          "metadata": {
            "needs_background": "light"
          }
        }
      ]
    },
    {
      "cell_type": "code",
      "source": [
        "df1['close'].corr(df1['macd'])"
      ],
      "metadata": {
        "colab": {
          "base_uri": "https://localhost:8080/"
        },
        "id": "qb4bq82bat8H",
        "outputId": "c55e5b7b-00d8-45de-e92d-19b0e06ba5f6"
      },
      "execution_count": 55,
      "outputs": [
        {
          "output_type": "execute_result",
          "data": {
            "text/plain": [
              "0.023418303798900992"
            ]
          },
          "metadata": {},
          "execution_count": 55
        }
      ]
    },
    {
      "cell_type": "code",
      "source": [
        "df1['close'].corr(df1['ROC5'])"
      ],
      "metadata": {
        "colab": {
          "base_uri": "https://localhost:8080/"
        },
        "id": "jEFOcqCeayfs",
        "outputId": "3dd10f7b-718f-46c9-cbb6-55751aa179e9"
      },
      "execution_count": 56,
      "outputs": [
        {
          "output_type": "execute_result",
          "data": {
            "text/plain": [
              "0.008614666541593336"
            ]
          },
          "metadata": {},
          "execution_count": 56
        }
      ]
    },
    {
      "cell_type": "code",
      "source": [
        "df1 = df1.set_index('date')"
      ],
      "metadata": {
        "id": "RPOIk09YddhZ"
      },
      "execution_count": 28,
      "outputs": []
    },
    {
      "cell_type": "code",
      "source": [
        "from matplotlib import pyplot\n",
        "df1.plot()"
      ],
      "metadata": {
        "colab": {
          "base_uri": "https://localhost:8080/",
          "height": 283
        },
        "id": "eCTfhE1XauFm",
        "outputId": "59437956-a322-44cf-c95c-5a516f56716d"
      },
      "execution_count": 57,
      "outputs": [
        {
          "output_type": "execute_result",
          "data": {
            "text/plain": [
              "<matplotlib.axes._subplots.AxesSubplot at 0x7f7485b624d0>"
            ]
          },
          "metadata": {},
          "execution_count": 57
        },
        {
          "output_type": "display_data",
          "data": {
            "text/plain": [
              "<Figure size 432x288 with 1 Axes>"
            ],
            "image/png": "[encoded data removed]"
          },
          "metadata": {
            "needs_background": "light"
          }
        }
      ]
    },
    {
      "cell_type": "code",
      "source": [
        "df1.values"
      ],
      "metadata": {
        "colab": {
          "base_uri": "https://localhost:8080/"
        },
        "id": "aAiVALRGauIY",
        "outputId": "6f791cde-0d3f-43d7-a817-9ac8d9e27b76"
      },
      "execution_count": null,
      "outputs": [
        {
          "output_type": "execute_result",
          "data": {
            "text/plain": [
              "array([[ 1.91930000e+00, -4.07380990e-03,  2.60511645e-02],\n",
              "       [ 1.91940000e+00, -4.07380990e-03,  2.60511645e-02],\n",
              "       [ 1.91970000e+00, -4.07380990e-03,  2.60511645e-02],\n",
              "       ...,\n",
              "       [ 1.31168000e+00, -1.86162116e-04,  5.26319804e-02],\n",
              "       [ 1.31184000e+00, -1.46284104e-04,  3.81289368e-02],\n",
              "       [ 1.31115000e+00, -1.68416327e-04, -4.80263459e-02]])"
            ]
          },
          "metadata": {},
          "execution_count": 54
        }
      ]
    },
    {
      "cell_type": "code",
      "source": [
        "df1.var()"
      ],
      "metadata": {
        "colab": {
          "base_uri": "https://localhost:8080/"
        },
        "id": "-G4pfTK4auK0",
        "outputId": "4ddacc4b-07a2-4ee4-beaa-1b13e01ce56d"
      },
      "execution_count": 58,
      "outputs": [
        {
          "output_type": "execute_result",
          "data": {
            "text/plain": [
              "date     8.333417e+08\n",
              "close    4.253422e-03\n",
              "macd     9.391252e-07\n",
              "ROC5     1.979505e-02\n",
              "dtype: float64"
            ]
          },
          "metadata": {},
          "execution_count": 58
        }
      ]
    },
    {
      "cell_type": "code",
      "source": [
        "from matplotlib import pyplot\n",
        "\n",
        "df1.hist()\n",
        "pyplot.show()"
      ],
      "metadata": {
        "colab": {
          "base_uri": "https://localhost:8080/",
          "height": 281
        },
        "id": "RihxPU3XauNa",
        "outputId": "5618dde1-bf87-4418-f620-8ee1a40010c5"
      },
      "execution_count": 59,
      "outputs": [
        {
          "output_type": "display_data",
          "data": {
            "text/plain": [
              "<Figure size 432x288 with 4 Axes>"
            ],
            "image/png": "[encoded data removed]"
          },
          "metadata": {
            "needs_background": "light"
          }
        }
      ]
    },
    {
      "cell_type": "code",
      "source": [
        "df1.mean()"
      ],
      "metadata": {
        "colab": {
          "base_uri": "https://localhost:8080/"
        },
        "id": "wCcwWgQIcpJP",
        "outputId": "359660c5-0fb5-4a85-9442-7c381dcd1486"
      },
      "execution_count": 60,
      "outputs": [
        {
          "output_type": "execute_result",
          "data": {
            "text/plain": [
              "date     49999.500000\n",
              "close        1.315367\n",
              "macd        -0.000012\n",
              "ROC5        -0.000541\n",
              "dtype: float64"
            ]
          },
          "metadata": {},
          "execution_count": 60
        }
      ]
    },
    {
      "cell_type": "code",
      "source": [
        "np.corrcoef(\n",
        "    df1['close'],\n",
        "    df1['macd'],\n",
        ")"
      ],
      "metadata": {
        "colab": {
          "base_uri": "https://localhost:8080/"
        },
        "id": "IfriJayAcpMG",
        "outputId": "630fc804-7ea5-4a5c-8b95-ec959a5fd6f8"
      },
      "execution_count": 61,
      "outputs": [
        {
          "output_type": "execute_result",
          "data": {
            "text/plain": [
              "array([[1.       , 0.0234183],\n",
              "       [0.0234183, 1.       ]])"
            ]
          },
          "metadata": {},
          "execution_count": 61
        }
      ]
    },
    {
      "cell_type": "code",
      "source": [
        "np.corrcoef(\n",
        "    df1['ROC5'],\n",
        "    df1['close'],\n",
        ")"
      ],
      "metadata": {
        "colab": {
          "base_uri": "https://localhost:8080/"
        },
        "id": "Lt-ILfbCc1L9",
        "outputId": "77334466-6713-42a8-fdd1-7aa6f0d86cdd"
      },
      "execution_count": 62,
      "outputs": [
        {
          "output_type": "execute_result",
          "data": {
            "text/plain": [
              "array([[1.        , 0.00861467],\n",
              "       [0.00861467, 1.        ]])"
            ]
          },
          "metadata": {},
          "execution_count": 62
        }
      ]
    },
    {
      "cell_type": "code",
      "source": [
        "from statsmodels.tsa.seasonal import seasonal_decompose\n",
        "res_ma = seasonal_decompose(df1['macd'], freq=1, model='additive') # one month seasonality \n",
        "\n",
        "print(\"Time series decomposition - macd\")\n",
        "res_ma.plot()\n",
        "plt.show()"
      ],
      "metadata": {
        "colab": {
          "base_uri": "https://localhost:8080/",
          "height": 315
        },
        "id": "sAj76PrmdwVW",
        "outputId": "3198e450-d0dd-4f0e-c766-8dceaae29053"
      },
      "execution_count": 63,
      "outputs": [
        {
          "output_type": "stream",
          "name": "stdout",
          "text": [
            "Time series decomposition - macd\n"
          ]
        },
        {
          "output_type": "display_data",
          "data": {
            "text/plain": [
              "<Figure size 432x288 with 4 Axes>"
            ],
            "image/png": "[encoded data removed]"
          },
          "metadata": {
            "needs_background": "light"
          }
        }
      ]
    },
    {
      "cell_type": "code",
      "source": [
        "from statsmodels.tsa.seasonal import seasonal_decompose\n",
        "res_roc = seasonal_decompose(df1['ROC5'], freq=1, model='additive')\n",
        "\n",
        "print(\"Time series decomposition - ROC5\")\n",
        "res_roc.plot()\n",
        "plt.show()"
      ],
      "metadata": {
        "colab": {
          "base_uri": "https://localhost:8080/",
          "height": 315
        },
        "id": "4fjok1tbd3M2",
        "outputId": "548799d4-686d-4a8a-b4c0-b5692e7f4dc1"
      },
      "execution_count": 64,
      "outputs": [
        {
          "output_type": "stream",
          "name": "stdout",
          "text": [
            "Time series decomposition - ROC5\n"
          ]
        },
        {
          "output_type": "display_data",
          "data": {
            "text/plain": [
              "<Figure size 432x288 with 4 Axes>"
            ],
            "image/png": "[encoded data removed]"
          },
          "metadata": {
            "needs_background": "light"
          }
        }
      ]
    },
    {
      "cell_type": "markdown",
      "source": [
        "AUGMENTED DICKY- FULLER TEST "
      ],
      "metadata": {
        "id": "VAUlV9TlfsOO"
      }
    },
    {
      "cell_type": "code",
      "source": [
        "from statsmodels.tsa.stattools import adfuller\n",
        "\n",
        "X = df1['macd'].values\n",
        "result = adfuller(X)\n",
        "\n",
        "print('ADF Statistic: %f' % result[0])\n",
        "print('p-value: %f' % result[1])\n",
        "print('Critical Values:')\n",
        "for key, value in result[4].items():\n",
        "  print('\\t%s: %.3f' % (key, value))"
      ],
      "metadata": {
        "id": "8u7L2ctAftOF",
        "colab": {
          "base_uri": "https://localhost:8080/"
        },
        "outputId": "04bc3a12-3741-41c2-858c-88e3c0ba0273"
      },
      "execution_count": 32,
      "outputs": [
        {
          "output_type": "stream",
          "name": "stdout",
          "text": [
            "ADF Statistic: -28.513231\n",
            "p-value: 0.000000\n",
            "Critical Values:\n",
            "\t1%: -3.430\n",
            "\t5%: -2.862\n",
            "\t10%: -2.567\n"
          ]
        }
      ]
    },
    {
      "cell_type": "markdown",
      "source": [
        "From the above ADF test, we would have to reject the null hypothesis that the time series is non-stationary and does have time-dependent **structure**"
      ],
      "metadata": {
        "id": "ntMghaLTibD8"
      }
    },
    {
      "cell_type": "markdown",
      "source": [
        "*Now*, we are going to add log transform the dataset again to make the distribution of values more linear and better meet the expectations of this statistical test"
      ],
      "metadata": {
        "id": "ufZniDTGhmcU"
      }
    },
    {
      "cell_type": "code",
      "source": [
        "from statsmodels.tsa.stattools import adfuller\n",
        "from numpy import log\n",
        "X = df['close'].values\n",
        "X = log(X)\n",
        "result = adfuller(X)\n",
        "print('ADF Statistic: %f' % result[0])\n",
        "print('p-value: %f' % result[1])\n",
        "print('Critical Values:')\n",
        "for key, value in result[4].items():\n",
        "  print('\\t%s: %.3f' % (key, value))"
      ],
      "metadata": {
        "id": "cxJSkmhDhlld",
        "colab": {
          "base_uri": "https://localhost:8080/"
        },
        "outputId": "06638659-9435-4096-e01f-ac19da8a88e3"
      },
      "execution_count": 34,
      "outputs": [
        {
          "output_type": "stream",
          "name": "stdout",
          "text": [
            "ADF Statistic: -2.849975\n",
            "p-value: 0.051482\n",
            "Critical Values:\n",
            "\t1%: -3.430\n",
            "\t5%: -2.862\n",
            "\t10%: -2.567\n"
          ]
        }
      ]
    },
    {
      "cell_type": "markdown",
      "source": [
        "TESTING DISTRIBUTIONS \n"
      ],
      "metadata": {
        "id": "ZkwYkGGlifLk"
      }
    },
    {
      "cell_type": "markdown",
      "source": [
        "Alpha  distributed data is done below "
      ],
      "metadata": {
        "id": "FiVnieEMilJc"
      }
    },
    {
      "cell_type": "code",
      "source": [
        "# Plot a histogram of the observed data\n",
        "#  Included is expected distribution, if the data is normally distributed, with the same mean and std of the data.\n",
        "%matplotlib inline\n",
        "\n",
        "import numpy as np\n",
        "import matplotlib.pyplot as plt\n",
        "\n",
        "import scipy.stats as stats\n",
        "from scipy.stats import normaltest\n",
        "\n",
        "\n",
        "xs = np.arange(df['macd'].min(), df['macd'].max(), 0.01)\n",
        "fit = stats.norm.pdf(xs, np.mean(df['macd']), np.std(df['macd']))\n",
        "plt.plot(xs, fit, label='Normal Dist.', lw=3)\n",
        "plt.hist(df['macd'], 50, density=True, label='Actual Data');\n",
        "plt.legend();"
      ],
      "metadata": {
        "id": "ZNc-cI0Kigcd",
        "colab": {
          "base_uri": "https://localhost:8080/",
          "height": 265
        },
        "outputId": "86f80971-3a7a-481f-a35f-f21a113ecbaa"
      },
      "execution_count": 38,
      "outputs": [
        {
          "output_type": "display_data",
          "data": {
            "text/plain": [
              "<Figure size 432x288 with 1 Axes>"
            ],
            "image/png": "[encoded data removed]"
          },
          "metadata": {
            "needs_background": "light"
          }
        }
      ]
    },
    {
      "cell_type": "code",
      "source": [
        "import scipy.stats as stats\n",
        "def check_p_val(p_val, alpha):\n",
        "\n",
        "    if p_val < alpha:\n",
        "        print('We have evidence to reject the null hypothesis.')\n",
        "    else:\n",
        "        print('We do not have evidence to reject the null hypothesis.')\n",
        "\n",
        "\n",
        "stat, p_val = stats.normaltest(df['close'])\n",
        "print('\\nNormaltest p-value is: {:1.2f} \\n'.format(p_val))\n",
        "check_p_val(p_val, alpha=0.05)"
      ],
      "metadata": {
        "id": "AK42U1psi0BU",
        "colab": {
          "base_uri": "https://localhost:8080/"
        },
        "outputId": "9064fad2-3ee7-4557-f3dc-4c3fac9ad238"
      },
      "execution_count": 39,
      "outputs": [
        {
          "output_type": "stream",
          "name": "stdout",
          "text": [
            "\n",
            "Normaltest p-value is: 0.00 \n",
            "\n",
            "We have evidence to reject the null hypothesis.\n"
          ]
        }
      ]
    },
    {
      "cell_type": "code",
      "source": [
        "import scipy.stats as stats\n",
        "def check_p_val(p_val, alpha):\n",
        "\n",
        "    if p_val < alpha:\n",
        "        print('We have evidence to reject the null hypothesis.')\n",
        "    else:\n",
        "        print('We do not have evidence to reject the null hypothesis.')\n",
        "\n",
        "\n",
        "stat, p_val = stats.normaltest(df1['macd'])\n",
        "print('\\nNormaltest p-value is: {:1.2f} \\n'.format(p_val))\n",
        "check_p_val(p_val, alpha=0.05)"
      ],
      "metadata": {
        "colab": {
          "base_uri": "https://localhost:8080/"
        },
        "id": "9wtlXSFGmb_T",
        "outputId": "3688751d-d1c9-4ed0-b639-1e4a1c3c42ee"
      },
      "execution_count": 27,
      "outputs": [
        {
          "output_type": "stream",
          "name": "stdout",
          "text": [
            "\n",
            "Normaltest p-value is: 0.00 \n",
            "\n",
            "We have evidence to reject the null hypothesis.\n"
          ]
        }
      ]
    },
    {
      "cell_type": "markdown",
      "source": [
        "Beta distributed curve is done below "
      ],
      "metadata": {
        "id": "kj8UdR6Gi5r0"
      }
    },
    {
      "cell_type": "code",
      "source": [
        "# Plot the data with with expected distribution, under the hypothesis that it is normally distributed. \n",
        "#  The blue line is the expected data density, with the same mean and standard deviation, if the data are normal. \n",
        "xs = np.arange(df['close'].min(), df['close'].max(), 0.01)\n",
        "fit = stats.norm.pdf(xs, np.mean(df['close']), np.std(df['close']))\n",
        "plt.plot(xs, fit, label='Normal Dist.', lw=3)\n",
        "plt.hist(df['close'], 50, density=True, label='Actual Data');\n",
        "plt.legend();"
      ],
      "metadata": {
        "id": "Ld8eHcA8i4nk",
        "colab": {
          "base_uri": "https://localhost:8080/",
          "height": 265
        },
        "outputId": "b8e2f979-c69a-4d90-d954-f391689cfcb6"
      },
      "execution_count": 40,
      "outputs": [
        {
          "output_type": "display_data",
          "data": {
            "text/plain": [
              "<Figure size 432x288 with 1 Axes>"
            ],
            "image/png": "[encoded data removed]"
          },
          "metadata": {
            "needs_background": "light"
          }
        }
      ]
    },
    {
      "cell_type": "code",
      "source": [
        "# Run normal test on the data\n",
        "stat, p_val = normaltest(df['close'])"
      ],
      "metadata": {
        "id": "mIQxnUzFi9EU"
      },
      "execution_count": 41,
      "outputs": []
    },
    {
      "cell_type": "code",
      "source": [
        "# Check the p-value of the normaltest\n",
        "print('\\nNormaltest p-value is: {:1.2e} \\n'.format(p_val))\n",
        "\n",
        "# With alpha value of 0.05, how should we proceed\n",
        "check_p_val(p_val, alpha=0.05)"
      ],
      "metadata": {
        "id": "qJKWrqhCjARW"
      },
      "execution_count": null,
      "outputs": []
    },
    {
      "cell_type": "code",
      "source": [
        "from scipy.stats import kstest\n",
        "# Let's continue using our data from above, from the beta distribution. \n",
        "#   We can confirm kstest considers it not normally distributed  \n",
        "stat, p_val = kstest(df['close'], 'norm')\n",
        "print('Statistic: \\t{:1.2f} \\nP-Value: \\t{:1.2e}\\n'.format(stat, p_val))\n",
        "check_p_val(p_val, alpha=0.05)"
      ],
      "metadata": {
        "id": "lwHaLgWEjATp",
        "colab": {
          "base_uri": "https://localhost:8080/"
        },
        "outputId": "a901aa91-1c99-4699-ad8d-9ec852d2cd7d"
      },
      "execution_count": 42,
      "outputs": [
        {
          "output_type": "stream",
          "name": "stdout",
          "text": [
            "Statistic: \t0.89 \n",
            "P-Value: \t0.00e+00\n",
            "\n",
            "We have evidence to reject the null hypothesis.\n"
          ]
        }
      ]
    },
    {
      "cell_type": "code",
      "source": [
        "# Now compare the data to the beta distribution.\n",
        "#   Note that in this case, we have to specify some parameters for the beta \n",
        "#   distribution we are testing against, so we will use the simulation parameters\n",
        "stat, p_val = kstest(df['close'], 'beta', [7, 10])\n",
        "print('Statistic: \\t{:1.2f} \\nP-Value: \\t{:1.2e}\\n'.format(stat, p_val))\n",
        "check_p_val(p_val, alpha=0.05)"
      ],
      "metadata": {
        "id": "_mcaeVjtjAWU",
        "colab": {
          "base_uri": "https://localhost:8080/"
        },
        "outputId": "1abff01e-cc06-4813-e30e-c4163c0a34a1"
      },
      "execution_count": 43,
      "outputs": [
        {
          "output_type": "stream",
          "name": "stdout",
          "text": [
            "Statistic: \t1.00 \n",
            "P-Value: \t0.00e+00\n",
            "\n",
            "We have evidence to reject the null hypothesis.\n"
          ]
        }
      ]
    },
    {
      "cell_type": "code",
      "source": [
        "#manually calculate correlation coefficents - normalise by stdev.\n",
        "df1 = df['close'].dropna()\n",
        "m = df['close'].mean(axis=0)\n",
        "s = df['close'].std(ddof=1, axis=0)\n",
        " \n",
        "# normalised time-series as an input for PCA\n",
        "combo_pca = (df1 - m)/s\n",
        " \n",
        "c = np.cov(combo_pca.values.T)     # covariance matrix   \n",
        "co = np.corrcoef(combo_pca.values.T) #correlation matrix"
      ],
      "metadata": {
        "id": "bUBJhFCCjPLz"
      },
      "execution_count": 44,
      "outputs": []
    },
    {
      "cell_type": "code",
      "source": [
        "df1"
      ],
      "metadata": {
        "colab": {
          "base_uri": "https://localhost:8080/"
        },
        "id": "3T5I9YfWhrgT",
        "outputId": "2c39ea02-392f-45d3-9aaa-0c3f4f6beb1c"
      },
      "execution_count": 48,
      "outputs": [
        {
          "output_type": "execute_result",
          "data": {
            "text/plain": [
              "3202    1.49030\n",
              "3203    1.49108\n",
              "3204    1.49041\n",
              "3205    1.48994\n",
              "3206    1.49010\n",
              "         ...   \n",
              "481     1.31191\n",
              "482     1.31209\n",
              "483     1.31168\n",
              "484     1.31184\n",
              "485     1.31115\n",
              "Name: close, Length: 100000, dtype: float64"
            ]
          },
          "metadata": {},
          "execution_count": 48
        }
      ]
    },
    {
      "cell_type": "code",
      "source": [
        "df1[df1.index.duplicated()]"
      ],
      "metadata": {
        "colab": {
          "base_uri": "https://localhost:8080/",
          "height": 49
        },
        "id": "aTdyyWW-iGeI",
        "outputId": "de0314e8-819a-45b7-b9c0-952d5a6f8639"
      },
      "execution_count": 16,
      "outputs": [
        {
          "output_type": "execute_result",
          "data": {
            "text/plain": [
              "Empty DataFrame\n",
              "Columns: [date, close, macd, ROC5]\n",
              "Index: []"
            ],
            "text/html": [
              "\n",
              "  <div id=\"df-9c3701e6-34c0-4f02-9aaa-96817b6b68b3\">\n",
              "    <div class=\"colab-df-container\">\n",
              "      <div>\n",
              "<style scoped>\n",
              "    .dataframe tbody tr th:only-of-type {\n",
              "        vertical-align: middle;\n",
              "    }\n",
              "\n",
              "    .dataframe tbody tr th {\n",
              "        vertical-align: top;\n",
              "    }\n",
              "\n",
              "    .dataframe thead th {\n",
              "        text-align: right;\n",
              "    }\n",
              "</style>\n",
              "<table border=\"1\" class=\"dataframe\">\n",
              "  <thead>\n",
              "    <tr style=\"text-align: right;\">\n",
              "      <th></th>\n",
              "      <th>date</th>\n",
              "      <th>close</th>\n",
              "      <th>macd</th>\n",
              "      <th>ROC5</th>\n",
              "    </tr>\n",
              "  </thead>\n",
              "  <tbody>\n",
              "  </tbody>\n",
              "</table>\n",
              "</div>\n",
              "      <button class=\"colab-df-convert\" onclick=\"convertToInteractive('df-9c3701e6-34c0-4f02-9aaa-96817b6b68b3')\"\n",
              "              title=\"Convert this dataframe to an interactive table.\"\n",
              "              style=\"display:none;\">\n",
              "        \n",
              "  <svg xmlns=\"http://www.w3.org/2000/svg\" height=\"24px\"viewBox=\"0 0 24 24\"\n",
              "       width=\"24px\">\n",
              "    <path d=\"M0 0h24v24H0V0z\" fill=\"none\"/>\n",
              "    <path d=\"M18.56 5.44l.94 2.06.94-2.06 2.06-.94-2.06-.94-.94-2.06-.94 2.06-2.06.94zm-11 1L8.5 8.5l.94-2.06 2.06-.94-2.06-.94L8.5 2.5l-.94 2.06-2.06.94zm10 10l.94 2.06.94-2.06 2.06-.94-2.06-.94-.94-2.06-.94 2.06-2.06.94z\"/><path d=\"M17.41 7.96l-1.37-1.37c-.4-.4-.92-.59-1.43-.59-.52 0-1.04.2-1.43.59L10.3 9.45l-7.72 7.72c-.78.78-.78 2.05 0 2.83L4 21.41c.39.39.9.59 1.41.59.51 0 1.02-.2 1.41-.59l7.78-7.78 2.81-2.81c.8-.78.8-2.07 0-2.86zM5.41 20L4 18.59l7.72-7.72 1.47 1.35L5.41 20z\"/>\n",
              "  </svg>\n",
              "      </button>\n",
              "      \n",
              "  <style>\n",
              "    .colab-df-container {\n",
              "      display:flex;\n",
              "      flex-wrap:wrap;\n",
              "      gap: 12px;\n",
              "    }\n",
              "\n",
              "    .colab-df-convert {\n",
              "      background-color: #E8F0FE;\n",
              "      border: none;\n",
              "      border-radius: 50%;\n",
              "      cursor: pointer;\n",
              "      display: none;\n",
              "      fill: #1967D2;\n",
              "      height: 32px;\n",
              "      padding: 0 0 0 0;\n",
              "      width: 32px;\n",
              "    }\n",
              "\n",
              "    .colab-df-convert:hover {\n",
              "      background-color: #E2EBFA;\n",
              "      box-shadow: 0px 1px 2px rgba(60, 64, 67, 0.3), 0px 1px 3px 1px rgba(60, 64, 67, 0.15);\n",
              "      fill: #174EA6;\n",
              "    }\n",
              "\n",
              "    [theme=dark] .colab-df-convert {\n",
              "      background-color: #3B4455;\n",
              "      fill: #D2E3FC;\n",
              "    }\n",
              "\n",
              "    [theme=dark] .colab-df-convert:hover {\n",
              "      background-color: #434B5C;\n",
              "      box-shadow: 0px 1px 3px 1px rgba(0, 0, 0, 0.15);\n",
              "      filter: drop-shadow(0px 1px 2px rgba(0, 0, 0, 0.3));\n",
              "      fill: #FFFFFF;\n",
              "    }\n",
              "  </style>\n",
              "\n",
              "      <script>\n",
              "        const buttonEl =\n",
              "          document.querySelector('#df-9c3701e6-34c0-4f02-9aaa-96817b6b68b3 button.colab-df-convert');\n",
              "        buttonEl.style.display =\n",
              "          google.colab.kernel.accessAllowed ? 'block' : 'none';\n",
              "\n",
              "        async function convertToInteractive(key) {\n",
              "          const element = document.querySelector('#df-9c3701e6-34c0-4f02-9aaa-96817b6b68b3');\n",
              "          const dataTable =\n",
              "            await google.colab.kernel.invokeFunction('convertToInteractive',\n",
              "                                                     [key], {});\n",
              "          if (!dataTable) return;\n",
              "\n",
              "          const docLinkHtml = 'Like what you see? Visit the ' +\n",
              "            '<a target=\"_blank\" href=https://colab.research.google.com/notebooks/data_table.ipynb>data table notebook</a>'\n",
              "            + ' to learn more about interactive tables.';\n",
              "          element.innerHTML = '';\n",
              "          dataTable['output_type'] = 'display_data';\n",
              "          await google.colab.output.renderOutput(dataTable, element);\n",
              "          const docLink = document.createElement('div');\n",
              "          docLink.innerHTML = docLinkHtml;\n",
              "          element.appendChild(docLink);\n",
              "        }\n",
              "      </script>\n",
              "    </div>\n",
              "  </div>\n",
              "  "
            ]
          },
          "metadata": {},
          "execution_count": 16
        }
      ]
    },
    {
      "cell_type": "code",
      "source": [
        "import pandas\n",
        "import numpy as np\n",
        "\n",
        "\n",
        "corr1 = df1['close'].corr(df1['macd'],method='pearson', min_periods=1)\n",
        "print(corr1)"
      ],
      "metadata": {
        "colab": {
          "base_uri": "https://localhost:8080/"
        },
        "id": "QDZ27lewg6wP",
        "outputId": "3309a0f4-c1bc-46b6-a9ae-0a0e641423e8"
      },
      "execution_count": 18,
      "outputs": [
        {
          "output_type": "stream",
          "name": "stdout",
          "text": [
            "0.023418303798900992\n"
          ]
        }
      ]
    },
    {
      "cell_type": "code",
      "source": [
        "corrM = df1.corr()\n",
        "corrM"
      ],
      "metadata": {
        "colab": {
          "base_uri": "https://localhost:8080/",
          "height": 143
        },
        "id": "cF8qB375jvWv",
        "outputId": "a13f5089-a1cf-4ee5-f617-e488539b7bd7"
      },
      "execution_count": 19,
      "outputs": [
        {
          "output_type": "execute_result",
          "data": {
            "text/plain": [
              "          close      macd      ROC5\n",
              "close  1.000000  0.023418  0.008615\n",
              "macd   0.023418  1.000000  0.344304\n",
              "ROC5   0.008615  0.344304  1.000000"
            ],
            "text/html": [
              "\n",
              "  <div id=\"df-060c0803-544b-4feb-94ac-245ec7df3fd2\">\n",
              "    <div class=\"colab-df-container\">\n",
              "      <div>\n",
              "<style scoped>\n",
              "    .dataframe tbody tr th:only-of-type {\n",
              "        vertical-align: middle;\n",
              "    }\n",
              "\n",
              "    .dataframe tbody tr th {\n",
              "        vertical-align: top;\n",
              "    }\n",
              "\n",
              "    .dataframe thead th {\n",
              "        text-align: right;\n",
              "    }\n",
              "</style>\n",
              "<table border=\"1\" class=\"dataframe\">\n",
              "  <thead>\n",
              "    <tr style=\"text-align: right;\">\n",
              "      <th></th>\n",
              "      <th>close</th>\n",
              "      <th>macd</th>\n",
              "      <th>ROC5</th>\n",
              "    </tr>\n",
              "  </thead>\n",
              "  <tbody>\n",
              "    <tr>\n",
              "      <th>close</th>\n",
              "      <td>1.000000</td>\n",
              "      <td>0.023418</td>\n",
              "      <td>0.008615</td>\n",
              "    </tr>\n",
              "    <tr>\n",
              "      <th>macd</th>\n",
              "      <td>0.023418</td>\n",
              "      <td>1.000000</td>\n",
              "      <td>0.344304</td>\n",
              "    </tr>\n",
              "    <tr>\n",
              "      <th>ROC5</th>\n",
              "      <td>0.008615</td>\n",
              "      <td>0.344304</td>\n",
              "      <td>1.000000</td>\n",
              "    </tr>\n",
              "  </tbody>\n",
              "</table>\n",
              "</div>\n",
              "      <button class=\"colab-df-convert\" onclick=\"convertToInteractive('df-060c0803-544b-4feb-94ac-245ec7df3fd2')\"\n",
              "              title=\"Convert this dataframe to an interactive table.\"\n",
              "              style=\"display:none;\">\n",
              "        \n",
              "  <svg xmlns=\"http://www.w3.org/2000/svg\" height=\"24px\"viewBox=\"0 0 24 24\"\n",
              "       width=\"24px\">\n",
              "    <path d=\"M0 0h24v24H0V0z\" fill=\"none\"/>\n",
              "    <path d=\"M18.56 5.44l.94 2.06.94-2.06 2.06-.94-2.06-.94-.94-2.06-.94 2.06-2.06.94zm-11 1L8.5 8.5l.94-2.06 2.06-.94-2.06-.94L8.5 2.5l-.94 2.06-2.06.94zm10 10l.94 2.06.94-2.06 2.06-.94-2.06-.94-.94-2.06-.94 2.06-2.06.94z\"/><path d=\"M17.41 7.96l-1.37-1.37c-.4-.4-.92-.59-1.43-.59-.52 0-1.04.2-1.43.59L10.3 9.45l-7.72 7.72c-.78.78-.78 2.05 0 2.83L4 21.41c.39.39.9.59 1.41.59.51 0 1.02-.2 1.41-.59l7.78-7.78 2.81-2.81c.8-.78.8-2.07 0-2.86zM5.41 20L4 18.59l7.72-7.72 1.47 1.35L5.41 20z\"/>\n",
              "  </svg>\n",
              "      </button>\n",
              "      \n",
              "  <style>\n",
              "    .colab-df-container {\n",
              "      display:flex;\n",
              "      flex-wrap:wrap;\n",
              "      gap: 12px;\n",
              "    }\n",
              "\n",
              "    .colab-df-convert {\n",
              "      background-color: #E8F0FE;\n",
              "      border: none;\n",
              "      border-radius: 50%;\n",
              "      cursor: pointer;\n",
              "      display: none;\n",
              "      fill: #1967D2;\n",
              "      height: 32px;\n",
              "      padding: 0 0 0 0;\n",
              "      width: 32px;\n",
              "    }\n",
              "\n",
              "    .colab-df-convert:hover {\n",
              "      background-color: #E2EBFA;\n",
              "      box-shadow: 0px 1px 2px rgba(60, 64, 67, 0.3), 0px 1px 3px 1px rgba(60, 64, 67, 0.15);\n",
              "      fill: #174EA6;\n",
              "    }\n",
              "\n",
              "    [theme=dark] .colab-df-convert {\n",
              "      background-color: #3B4455;\n",
              "      fill: #D2E3FC;\n",
              "    }\n",
              "\n",
              "    [theme=dark] .colab-df-convert:hover {\n",
              "      background-color: #434B5C;\n",
              "      box-shadow: 0px 1px 3px 1px rgba(0, 0, 0, 0.15);\n",
              "      filter: drop-shadow(0px 1px 2px rgba(0, 0, 0, 0.3));\n",
              "      fill: #FFFFFF;\n",
              "    }\n",
              "  </style>\n",
              "\n",
              "      <script>\n",
              "        const buttonEl =\n",
              "          document.querySelector('#df-060c0803-544b-4feb-94ac-245ec7df3fd2 button.colab-df-convert');\n",
              "        buttonEl.style.display =\n",
              "          google.colab.kernel.accessAllowed ? 'block' : 'none';\n",
              "\n",
              "        async function convertToInteractive(key) {\n",
              "          const element = document.querySelector('#df-060c0803-544b-4feb-94ac-245ec7df3fd2');\n",
              "          const dataTable =\n",
              "            await google.colab.kernel.invokeFunction('convertToInteractive',\n",
              "                                                     [key], {});\n",
              "          if (!dataTable) return;\n",
              "\n",
              "          const docLinkHtml = 'Like what you see? Visit the ' +\n",
              "            '<a target=\"_blank\" href=https://colab.research.google.com/notebooks/data_table.ipynb>data table notebook</a>'\n",
              "            + ' to learn more about interactive tables.';\n",
              "          element.innerHTML = '';\n",
              "          dataTable['output_type'] = 'display_data';\n",
              "          await google.colab.output.renderOutput(dataTable, element);\n",
              "          const docLink = document.createElement('div');\n",
              "          docLink.innerHTML = docLinkHtml;\n",
              "          element.appendChild(docLink);\n",
              "        }\n",
              "      </script>\n",
              "    </div>\n",
              "  </div>\n",
              "  "
            ]
          },
          "metadata": {},
          "execution_count": 19
        }
      ]
    },
    {
      "cell_type": "code",
      "source": [
        "import numpy as np\n",
        "import seaborn as sn\n",
        "import matplotlib.pyplot as plt\n",
        "covMatrix = np.cov(df1['close'],df1['macd'],bias=True)\n",
        "sn.heatmap(covMatrix, annot=True, fmt='g')\n",
        "plt.show()\n"
      ],
      "metadata": {
        "colab": {
          "base_uri": "https://localhost:8080/",
          "height": 265
        },
        "id": "AnEOmyRcj5Dy",
        "outputId": "2209ba4e-d943-4777-ecd8-3a45b9b22ab0"
      },
      "execution_count": 26,
      "outputs": [
        {
          "output_type": "display_data",
          "data": {
            "text/plain": [
              "<Figure size 432x288 with 2 Axes>"
            ],
            "image/png": "[encoded data removed]"
          },
          "metadata": {
            "needs_background": "light"
          }
        }
      ]
    },
    {
      "cell_type": "markdown",
      "source": [
        "Splitting the cells "
      ],
      "metadata": {
        "id": "yqekz3Gg2SIr"
      }
    },
    {
      "cell_type": "code",
      "source": [
        "df1"
      ],
      "metadata": {
        "colab": {
          "base_uri": "https://localhost:8080/",
          "height": 455
        },
        "id": "cBboOwQf2Vz1",
        "outputId": "7a3a4744-46ce-495d-c746-6c5b62f9b174"
      },
      "execution_count": null,
      "outputs": [
        {
          "output_type": "execute_result",
          "data": {
            "text/plain": [
              "                             close      macd      ROC5\n",
              "date                                                  \n",
              "2015-12-18 16:30:00+00:00  1.49030  0.000221 -0.042944\n",
              "2015-12-18 16:45:00+00:00  1.49108  0.000221 -0.042944\n",
              "2015-12-18 17:00:00+00:00  1.49041  0.000221 -0.042944\n",
              "2015-12-18 17:15:00+00:00  1.48994  0.000221 -0.042944\n",
              "2015-12-18 17:30:00+00:00  1.49010  0.000221 -0.042944\n",
              "...                            ...       ...       ...\n",
              "2019-12-30 22:30:00+00:00  1.31191 -0.000297  0.090790\n",
              "2019-12-30 22:45:00+00:00  1.31209 -0.000218  0.080089\n",
              "2019-12-30 23:00:00+00:00  1.31168 -0.000186  0.052632\n",
              "2019-12-30 23:15:00+00:00  1.31184 -0.000146  0.038129\n",
              "2019-12-30 23:30:00+00:00  1.31115 -0.000168 -0.048026\n",
              "\n",
              "[100000 rows x 3 columns]"
            ],
            "text/html": [
              "\n",
              "  <div id=\"df-0ce91205-d4cc-49b7-ad50-9aa8e69ea2c3\">\n",
              "    <div class=\"colab-df-container\">\n",
              "      <div>\n",
              "<style scoped>\n",
              "    .dataframe tbody tr th:only-of-type {\n",
              "        vertical-align: middle;\n",
              "    }\n",
              "\n",
              "    .dataframe tbody tr th {\n",
              "        vertical-align: top;\n",
              "    }\n",
              "\n",
              "    .dataframe thead th {\n",
              "        text-align: right;\n",
              "    }\n",
              "</style>\n",
              "<table border=\"1\" class=\"dataframe\">\n",
              "  <thead>\n",
              "    <tr style=\"text-align: right;\">\n",
              "      <th></th>\n",
              "      <th>close</th>\n",
              "      <th>macd</th>\n",
              "      <th>ROC5</th>\n",
              "    </tr>\n",
              "    <tr>\n",
              "      <th>date</th>\n",
              "      <th></th>\n",
              "      <th></th>\n",
              "      <th></th>\n",
              "    </tr>\n",
              "  </thead>\n",
              "  <tbody>\n",
              "    <tr>\n",
              "      <th>2015-12-18 16:30:00+00:00</th>\n",
              "      <td>1.49030</td>\n",
              "      <td>0.000221</td>\n",
              "      <td>-0.042944</td>\n",
              "    </tr>\n",
              "    <tr>\n",
              "      <th>2015-12-18 16:45:00+00:00</th>\n",
              "      <td>1.49108</td>\n",
              "      <td>0.000221</td>\n",
              "      <td>-0.042944</td>\n",
              "    </tr>\n",
              "    <tr>\n",
              "      <th>2015-12-18 17:00:00+00:00</th>\n",
              "      <td>1.49041</td>\n",
              "      <td>0.000221</td>\n",
              "      <td>-0.042944</td>\n",
              "    </tr>\n",
              "    <tr>\n",
              "      <th>2015-12-18 17:15:00+00:00</th>\n",
              "      <td>1.48994</td>\n",
              "      <td>0.000221</td>\n",
              "      <td>-0.042944</td>\n",
              "    </tr>\n",
              "    <tr>\n",
              "      <th>2015-12-18 17:30:00+00:00</th>\n",
              "      <td>1.49010</td>\n",
              "      <td>0.000221</td>\n",
              "      <td>-0.042944</td>\n",
              "    </tr>\n",
              "    <tr>\n",
              "      <th>...</th>\n",
              "      <td>...</td>\n",
              "      <td>...</td>\n",
              "      <td>...</td>\n",
              "    </tr>\n",
              "    <tr>\n",
              "      <th>2019-12-30 22:30:00+00:00</th>\n",
              "      <td>1.31191</td>\n",
              "      <td>-0.000297</td>\n",
              "      <td>0.090790</td>\n",
              "    </tr>\n",
              "    <tr>\n",
              "      <th>2019-12-30 22:45:00+00:00</th>\n",
              "      <td>1.31209</td>\n",
              "      <td>-0.000218</td>\n",
              "      <td>0.080089</td>\n",
              "    </tr>\n",
              "    <tr>\n",
              "      <th>2019-12-30 23:00:00+00:00</th>\n",
              "      <td>1.31168</td>\n",
              "      <td>-0.000186</td>\n",
              "      <td>0.052632</td>\n",
              "    </tr>\n",
              "    <tr>\n",
              "      <th>2019-12-30 23:15:00+00:00</th>\n",
              "      <td>1.31184</td>\n",
              "      <td>-0.000146</td>\n",
              "      <td>0.038129</td>\n",
              "    </tr>\n",
              "    <tr>\n",
              "      <th>2019-12-30 23:30:00+00:00</th>\n",
              "      <td>1.31115</td>\n",
              "      <td>-0.000168</td>\n",
              "      <td>-0.048026</td>\n",
              "    </tr>\n",
              "  </tbody>\n",
              "</table>\n",
              "<p>100000 rows × 3 columns</p>\n",
              "</div>\n",
              "      <button class=\"colab-df-convert\" onclick=\"convertToInteractive('df-0ce91205-d4cc-49b7-ad50-9aa8e69ea2c3')\"\n",
              "              title=\"Convert this dataframe to an interactive table.\"\n",
              "              style=\"display:none;\">\n",
              "        \n",
              "  <svg xmlns=\"http://www.w3.org/2000/svg\" height=\"24px\"viewBox=\"0 0 24 24\"\n",
              "       width=\"24px\">\n",
              "    <path d=\"M0 0h24v24H0V0z\" fill=\"none\"/>\n",
              "    <path d=\"M18.56 5.44l.94 2.06.94-2.06 2.06-.94-2.06-.94-.94-2.06-.94 2.06-2.06.94zm-11 1L8.5 8.5l.94-2.06 2.06-.94-2.06-.94L8.5 2.5l-.94 2.06-2.06.94zm10 10l.94 2.06.94-2.06 2.06-.94-2.06-.94-.94-2.06-.94 2.06-2.06.94z\"/><path d=\"M17.41 7.96l-1.37-1.37c-.4-.4-.92-.59-1.43-.59-.52 0-1.04.2-1.43.59L10.3 9.45l-7.72 7.72c-.78.78-.78 2.05 0 2.83L4 21.41c.39.39.9.59 1.41.59.51 0 1.02-.2 1.41-.59l7.78-7.78 2.81-2.81c.8-.78.8-2.07 0-2.86zM5.41 20L4 18.59l7.72-7.72 1.47 1.35L5.41 20z\"/>\n",
              "  </svg>\n",
              "      </button>\n",
              "      \n",
              "  <style>\n",
              "    .colab-df-container {\n",
              "      display:flex;\n",
              "      flex-wrap:wrap;\n",
              "      gap: 12px;\n",
              "    }\n",
              "\n",
              "    .colab-df-convert {\n",
              "      background-color: #E8F0FE;\n",
              "      border: none;\n",
              "      border-radius: 50%;\n",
              "      cursor: pointer;\n",
              "      display: none;\n",
              "      fill: #1967D2;\n",
              "      height: 32px;\n",
              "      padding: 0 0 0 0;\n",
              "      width: 32px;\n",
              "    }\n",
              "\n",
              "    .colab-df-convert:hover {\n",
              "      background-color: #E2EBFA;\n",
              "      box-shadow: 0px 1px 2px rgba(60, 64, 67, 0.3), 0px 1px 3px 1px rgba(60, 64, 67, 0.15);\n",
              "      fill: #174EA6;\n",
              "    }\n",
              "\n",
              "    [theme=dark] .colab-df-convert {\n",
              "      background-color: #3B4455;\n",
              "      fill: #D2E3FC;\n",
              "    }\n",
              "\n",
              "    [theme=dark] .colab-df-convert:hover {\n",
              "      background-color: #434B5C;\n",
              "      box-shadow: 0px 1px 3px 1px rgba(0, 0, 0, 0.15);\n",
              "      filter: drop-shadow(0px 1px 2px rgba(0, 0, 0, 0.3));\n",
              "      fill: #FFFFFF;\n",
              "    }\n",
              "  </style>\n",
              "\n",
              "      <script>\n",
              "        const buttonEl =\n",
              "          document.querySelector('#df-0ce91205-d4cc-49b7-ad50-9aa8e69ea2c3 button.colab-df-convert');\n",
              "        buttonEl.style.display =\n",
              "          google.colab.kernel.accessAllowed ? 'block' : 'none';\n",
              "\n",
              "        async function convertToInteractive(key) {\n",
              "          const element = document.querySelector('#df-0ce91205-d4cc-49b7-ad50-9aa8e69ea2c3');\n",
              "          const dataTable =\n",
              "            await google.colab.kernel.invokeFunction('convertToInteractive',\n",
              "                                                     [key], {});\n",
              "          if (!dataTable) return;\n",
              "\n",
              "          const docLinkHtml = 'Like what you see? Visit the ' +\n",
              "            '<a target=\"_blank\" href=https://colab.research.google.com/notebooks/data_table.ipynb>data table notebook</a>'\n",
              "            + ' to learn more about interactive tables.';\n",
              "          element.innerHTML = '';\n",
              "          dataTable['output_type'] = 'display_data';\n",
              "          await google.colab.output.renderOutput(dataTable, element);\n",
              "          const docLink = document.createElement('div');\n",
              "          docLink.innerHTML = docLinkHtml;\n",
              "          element.appendChild(docLink);\n",
              "        }\n",
              "      </script>\n",
              "    </div>\n",
              "  </div>\n",
              "  "
            ]
          },
          "metadata": {},
          "execution_count": 73
        }
      ]
    },
    {
      "cell_type": "markdown",
      "source": [
        "Linear Regression"
      ],
      "metadata": {
        "id": "C5Owua2qp-CU"
      }
    },
    {
      "cell_type": "code",
      "source": [
        "#x = np.array(df1.drop(['close'],1).values)\n",
        "x = np.array(df1.drop(['close', 'date'], axis = 1).values)\n",
        "y = df1['close'].values"
      ],
      "metadata": {
        "id": "hbVKqetpHee6"
      },
      "execution_count": 103,
      "outputs": []
    },
    {
      "cell_type": "code",
      "source": [
        "#x = df1.drop(index=('close'),axis=1).values\n",
        "#x = df1.drop(['close'],axis=1).values\n",
        "#y = df['close'].values"
      ],
      "metadata": {
        "id": "wjlXAprkqAT7"
      },
      "execution_count": null,
      "outputs": []
    },
    {
      "cell_type": "code",
      "source": [
        "df1 = df1.set_index('date')"
      ],
      "metadata": {
        "id": "U2hmbrBfzYki"
      },
      "execution_count": null,
      "outputs": []
    },
    {
      "cell_type": "markdown",
      "source": [
        "Splitting the data"
      ],
      "metadata": {
        "id": "W8sZbXyc5vvI"
      }
    },
    {
      "cell_type": "code",
      "source": [
        "from sklearn.model_selection import train_test_split\n",
        "x_train, x_test, y_train, y_test = train_test_split(x, y, test_size=0.3, random_state=0)"
      ],
      "metadata": {
        "id": "vgCBg_o05ywf"
      },
      "execution_count": 104,
      "outputs": []
    },
    {
      "cell_type": "markdown",
      "source": [
        "Train the model on the model "
      ],
      "metadata": {
        "id": "c15_hjfv6I69"
      }
    },
    {
      "cell_type": "markdown",
      "source": [
        "Predict the test results "
      ],
      "metadata": {
        "id": "Lrs_okBR6uAF"
      }
    },
    {
      "cell_type": "code",
      "source": [
        "y_pred = ml.predict(x_test)\n",
        "print(y_pred)"
      ],
      "metadata": {
        "colab": {
          "base_uri": "https://localhost:8080/"
        },
        "id": "Kt7gm-kB6yzD",
        "outputId": "23550178-5723-48cc-bac1-159514d6b4f3"
      },
      "execution_count": null,
      "outputs": [
        {
          "output_type": "stream",
          "name": "stdout",
          "text": [
            "[1.31489786 1.31554449 1.31514419 ... 1.31576542 1.31405273 1.31716041]\n"
          ]
        }
      ]
    },
    {
      "cell_type": "markdown",
      "source": [
        "Evaluate model (R2 - Score ) "
      ],
      "metadata": {
        "id": "JS0PZhek8p3H"
      }
    },
    {
      "cell_type": "code",
      "source": [
        "from sklearn.metrics import r2_score \n",
        "r2_score(y_test,y_pred)"
      ],
      "metadata": {
        "colab": {
          "base_uri": "https://localhost:8080/"
        },
        "id": "oELht9rZ8tOF",
        "outputId": "28e552d4-4573-4a52-9e92-0713e87c5105"
      },
      "execution_count": null,
      "outputs": [
        {
          "output_type": "execute_result",
          "data": {
            "text/plain": [
              "9.658529848211028e-05"
            ]
          },
          "metadata": {},
          "execution_count": 27
        }
      ]
    },
    {
      "cell_type": "markdown",
      "source": [
        "Linear Regression"
      ],
      "metadata": {
        "id": "nAcMGxkT4ZSg"
      }
    },
    {
      "cell_type": "code",
      "source": [
        " import numpy as np\n",
        "from sklearn.linear_model import LinearRegression\n",
        "model = LinearRegression()\n",
        "model.fit(x_train, y_train)"
      ],
      "metadata": {
        "colab": {
          "base_uri": "https://localhost:8080/"
        },
        "id": "5snRm5cc4BIS",
        "outputId": "e6b96c43-e51f-4fac-85e3-bcc411205d2b"
      },
      "execution_count": 105,
      "outputs": [
        {
          "output_type": "execute_result",
          "data": {
            "text/plain": [
              "LinearRegression()"
            ]
          },
          "metadata": {},
          "execution_count": 105
        }
      ]
    },
    {
      "cell_type": "code",
      "source": [
        " r_sq = model.score(x_test, y_test)"
      ],
      "metadata": {
        "id": "NDlKh7pd4Jio"
      },
      "execution_count": 106,
      "outputs": []
    },
    {
      "cell_type": "code",
      "source": [
        "r_sq"
      ],
      "metadata": {
        "colab": {
          "base_uri": "https://localhost:8080/"
        },
        "id": "trl659zT4WP2",
        "outputId": "64d482df-5d27-4b9d-9993-3ca3fb2bb502"
      },
      "execution_count": 84,
      "outputs": [
        {
          "output_type": "execute_result",
          "data": {
            "text/plain": [
              "9.658529848211028e-05"
            ]
          },
          "metadata": {},
          "execution_count": 84
        }
      ]
    },
    {
      "cell_type": "code",
      "source": [
        "new_model = LinearRegression().fit(x_train, y_train)"
      ],
      "metadata": {
        "id": "Iof-drSG3ygi"
      },
      "execution_count": 82,
      "outputs": []
    },
    {
      "cell_type": "markdown",
      "source": [
        "Plotting "
      ],
      "metadata": {
        "id": "jk1mbBLR9Dte"
      }
    },
    {
      "cell_type": "code",
      "source": [
        "import matplotlib.pyplot as plt \n",
        "plt.figure(figsize=(15,10))\n",
        "plt.scatter(y_test,y_pred)\n",
        "plt.xlabel('actual')\n",
        "plt.ylabel('predicted')\n",
        "plt.title('Actual vs predicted')"
      ],
      "metadata": {
        "colab": {
          "base_uri": "https://localhost:8080/",
          "height": 639
        },
        "id": "ftQdKHz59Fj7",
        "outputId": "3ce14353-4376-4597-8960-d9fe0b6612de"
      },
      "execution_count": null,
      "outputs": [
        {
          "output_type": "execute_result",
          "data": {
            "text/plain": [
              "Text(0.5, 1.0, 'Actual vs predicted')"
            ]
          },
          "metadata": {},
          "execution_count": 28
        },
        {
          "output_type": "display_data",
          "data": {
            "text/plain": [
              "<Figure size 1080x720 with 1 Axes>"
            ],
            "image/png": "[encoded data removed]"
          },
          "metadata": {
            "needs_background": "light"
          }
        }
      ]
    },
    {
      "cell_type": "markdown",
      "source": [
        "Predicted values"
      ],
      "metadata": {
        "id": "kOwGRqmJ-GcX"
      }
    },
    {
      "cell_type": "code",
      "source": [
        "pred_y_df = pd.DataFrame({'Actual value':y_test,'Predicted Value':y_pred,'Difference':y_test-y_pred})"
      ],
      "metadata": {
        "id": "zbto6Oxx-Fww"
      },
      "execution_count": null,
      "outputs": []
    },
    {
      "cell_type": "code",
      "source": [
        "pred_y_df"
      ],
      "metadata": {
        "colab": {
          "base_uri": "https://localhost:8080/",
          "height": 673
        },
        "id": "7l6-_l60-nlN",
        "outputId": "767690d5-98db-4d59-8369-a21d76134783"
      },
      "execution_count": null,
      "outputs": [
        {
          "output_type": "execute_result",
          "data": {
            "text/plain": [
              "       Actual value  Predicted Value  Difference\n",
              "0           1.44608         1.314898    0.131182\n",
              "1           1.33154         1.315544    0.015996\n",
              "2           1.38400         1.315144    0.068856\n",
              "3           1.21792         1.315734   -0.097814\n",
              "4           1.43282         1.315187    0.117633\n",
              "...             ...              ...         ...\n",
              "29995       1.27166         1.315115   -0.043455\n",
              "29996       1.33825         1.315181    0.023069\n",
              "29997       1.29694         1.315765   -0.018825\n",
              "29998       1.23876         1.314053   -0.075293\n",
              "29999       1.25785         1.317160   -0.059310\n",
              "\n",
              "[30000 rows x 3 columns]"
            ],
            "text/html": [
              "\n",
              "  <div id=\"df-5b5075f6-68f8-4da4-b2ed-3113d763b201\">\n",
              "    <div class=\"colab-df-container\">\n",
              "      <div>\n",
              "<style scoped>\n",
              "    .dataframe tbody tr th:only-of-type {\n",
              "        vertical-align: middle;\n",
              "    }\n",
              "\n",
              "    .dataframe tbody tr th {\n",
              "        vertical-align: top;\n",
              "    }\n",
              "\n",
              "    .dataframe thead th {\n",
              "        text-align: right;\n",
              "    }\n",
              "</style>\n",
              "<table border=\"1\" class=\"dataframe\">\n",
              "  <thead>\n",
              "    <tr style=\"text-align: right;\">\n",
              "      <th></th>\n",
              "      <th>Actual value</th>\n",
              "      <th>Predicted Value</th>\n",
              "      <th>Difference</th>\n",
              "    </tr>\n",
              "  </thead>\n",
              "  <tbody>\n",
              "    <tr>\n",
              "      <th>0</th>\n",
              "      <td>1.44608</td>\n",
              "      <td>1.314898</td>\n",
              "      <td>0.131182</td>\n",
              "    </tr>\n",
              "    <tr>\n",
              "      <th>1</th>\n",
              "      <td>1.33154</td>\n",
              "      <td>1.315544</td>\n",
              "      <td>0.015996</td>\n",
              "    </tr>\n",
              "    <tr>\n",
              "      <th>2</th>\n",
              "      <td>1.38400</td>\n",
              "      <td>1.315144</td>\n",
              "      <td>0.068856</td>\n",
              "    </tr>\n",
              "    <tr>\n",
              "      <th>3</th>\n",
              "      <td>1.21792</td>\n",
              "      <td>1.315734</td>\n",
              "      <td>-0.097814</td>\n",
              "    </tr>\n",
              "    <tr>\n",
              "      <th>4</th>\n",
              "      <td>1.43282</td>\n",
              "      <td>1.315187</td>\n",
              "      <td>0.117633</td>\n",
              "    </tr>\n",
              "    <tr>\n",
              "      <th>...</th>\n",
              "      <td>...</td>\n",
              "      <td>...</td>\n",
              "      <td>...</td>\n",
              "    </tr>\n",
              "    <tr>\n",
              "      <th>29995</th>\n",
              "      <td>1.27166</td>\n",
              "      <td>1.315115</td>\n",
              "      <td>-0.043455</td>\n",
              "    </tr>\n",
              "    <tr>\n",
              "      <th>29996</th>\n",
              "      <td>1.33825</td>\n",
              "      <td>1.315181</td>\n",
              "      <td>0.023069</td>\n",
              "    </tr>\n",
              "    <tr>\n",
              "      <th>29997</th>\n",
              "      <td>1.29694</td>\n",
              "      <td>1.315765</td>\n",
              "      <td>-0.018825</td>\n",
              "    </tr>\n",
              "    <tr>\n",
              "      <th>29998</th>\n",
              "      <td>1.23876</td>\n",
              "      <td>1.314053</td>\n",
              "      <td>-0.075293</td>\n",
              "    </tr>\n",
              "    <tr>\n",
              "      <th>29999</th>\n",
              "      <td>1.25785</td>\n",
              "      <td>1.317160</td>\n",
              "      <td>-0.059310</td>\n",
              "    </tr>\n",
              "  </tbody>\n",
              "</table>\n",
              "<p>30000 rows × 3 columns</p>\n",
              "</div>\n",
              "      <button class=\"colab-df-convert\" onclick=\"convertToInteractive('df-5b5075f6-68f8-4da4-b2ed-3113d763b201')\"\n",
              "              title=\"Convert this dataframe to an interactive table.\"\n",
              "              style=\"display:none;\">\n",
              "        \n",
              "  <svg xmlns=\"http://www.w3.org/2000/svg\" height=\"24px\"viewBox=\"0 0 24 24\"\n",
              "       width=\"24px\">\n",
              "    <path d=\"M0 0h24v24H0V0z\" fill=\"none\"/>\n",
              "    <path d=\"M18.56 5.44l.94 2.06.94-2.06 2.06-.94-2.06-.94-.94-2.06-.94 2.06-2.06.94zm-11 1L8.5 8.5l.94-2.06 2.06-.94-2.06-.94L8.5 2.5l-.94 2.06-2.06.94zm10 10l.94 2.06.94-2.06 2.06-.94-2.06-.94-.94-2.06-.94 2.06-2.06.94z\"/><path d=\"M17.41 7.96l-1.37-1.37c-.4-.4-.92-.59-1.43-.59-.52 0-1.04.2-1.43.59L10.3 9.45l-7.72 7.72c-.78.78-.78 2.05 0 2.83L4 21.41c.39.39.9.59 1.41.59.51 0 1.02-.2 1.41-.59l7.78-7.78 2.81-2.81c.8-.78.8-2.07 0-2.86zM5.41 20L4 18.59l7.72-7.72 1.47 1.35L5.41 20z\"/>\n",
              "  </svg>\n",
              "      </button>\n",
              "      \n",
              "  <style>\n",
              "    .colab-df-container {\n",
              "      display:flex;\n",
              "      flex-wrap:wrap;\n",
              "      gap: 12px;\n",
              "    }\n",
              "\n",
              "    .colab-df-convert {\n",
              "      background-color: #E8F0FE;\n",
              "      border: none;\n",
              "      border-radius: 50%;\n",
              "      cursor: pointer;\n",
              "      display: none;\n",
              "      fill: #1967D2;\n",
              "      height: 32px;\n",
              "      padding: 0 0 0 0;\n",
              "      width: 32px;\n",
              "    }\n",
              "\n",
              "    .colab-df-convert:hover {\n",
              "      background-color: #E2EBFA;\n",
              "      box-shadow: 0px 1px 2px rgba(60, 64, 67, 0.3), 0px 1px 3px 1px rgba(60, 64, 67, 0.15);\n",
              "      fill: #174EA6;\n",
              "    }\n",
              "\n",
              "    [theme=dark] .colab-df-convert {\n",
              "      background-color: #3B4455;\n",
              "      fill: #D2E3FC;\n",
              "    }\n",
              "\n",
              "    [theme=dark] .colab-df-convert:hover {\n",
              "      background-color: #434B5C;\n",
              "      box-shadow: 0px 1px 3px 1px rgba(0, 0, 0, 0.15);\n",
              "      filter: drop-shadow(0px 1px 2px rgba(0, 0, 0, 0.3));\n",
              "      fill: #FFFFFF;\n",
              "    }\n",
              "  </style>\n",
              "\n",
              "      <script>\n",
              "        const buttonEl =\n",
              "          document.querySelector('#df-5b5075f6-68f8-4da4-b2ed-3113d763b201 button.colab-df-convert');\n",
              "        buttonEl.style.display =\n",
              "          google.colab.kernel.accessAllowed ? 'block' : 'none';\n",
              "\n",
              "        async function convertToInteractive(key) {\n",
              "          const element = document.querySelector('#df-5b5075f6-68f8-4da4-b2ed-3113d763b201');\n",
              "          const dataTable =\n",
              "            await google.colab.kernel.invokeFunction('convertToInteractive',\n",
              "                                                     [key], {});\n",
              "          if (!dataTable) return;\n",
              "\n",
              "          const docLinkHtml = 'Like what you see? Visit the ' +\n",
              "            '<a target=\"_blank\" href=https://colab.research.google.com/notebooks/data_table.ipynb>data table notebook</a>'\n",
              "            + ' to learn more about interactive tables.';\n",
              "          element.innerHTML = '';\n",
              "          dataTable['output_type'] = 'display_data';\n",
              "          await google.colab.output.renderOutput(dataTable, element);\n",
              "          const docLink = document.createElement('div');\n",
              "          docLink.innerHTML = docLinkHtml;\n",
              "          element.appendChild(docLink);\n",
              "        }\n",
              "      </script>\n",
              "    </div>\n",
              "  </div>\n",
              "  "
            ]
          },
          "metadata": {},
          "execution_count": 30
        },
        {
          "output_type": "stream",
          "name": "stdout",
          "text": [
            "Warning: total number of rows (30000) exceeds max_rows (20000). Limiting to first (20000) rows.\n"
          ]
        }
      ]
    },
    {
      "cell_type": "markdown",
      "source": [
        "Decision - Tree (Regressor) "
      ],
      "metadata": {
        "id": "Q1cX901q_gCu"
      }
    },
    {
      "cell_type": "code",
      "source": [
        "from sklearn.datasets import load_diabetes\n",
        "from sklearn.model_selection import cross_val_score\n",
        "from sklearn.tree import DecisionTreeRegressor\n",
        "dt = DecisionTreeRegressor(max_depth=4, min_samples_leaf=0.1, random_state=3)\n",
        "dt.fit(x_train,y_train)"
      ],
      "metadata": {
        "colab": {
          "base_uri": "https://localhost:8080/"
        },
        "id": "F8-e-uzd_gSP",
        "outputId": "38c419e5-ed2a-4d5d-da3d-4dc250ff885d"
      },
      "execution_count": 107,
      "outputs": [
        {
          "output_type": "execute_result",
          "data": {
            "text/plain": [
              "DecisionTreeRegressor(max_depth=4, min_samples_leaf=0.1, random_state=3)"
            ]
          },
          "metadata": {},
          "execution_count": 107
        }
      ]
    },
    {
      "cell_type": "code",
      "source": [
        "cross_val_score(dt, x_test, y_test, cv=10)"
      ],
      "metadata": {
        "colab": {
          "base_uri": "https://localhost:8080/"
        },
        "id": "7RABSy3i4ozY",
        "outputId": "3ba3806a-1d01-48d9-b19e-2fff57406d96"
      },
      "execution_count": 108,
      "outputs": [
        {
          "output_type": "execute_result",
          "data": {
            "text/plain": [
              "array([ 6.73466145e-03,  1.06598757e-02, -4.82236384e-05,  3.98053238e-03,\n",
              "        7.09437614e-03,  4.78034656e-03,  9.56424809e-03,  9.10882808e-03,\n",
              "        3.43532451e-03,  3.68866107e-03])"
            ]
          },
          "metadata": {},
          "execution_count": 108
        }
      ]
    },
    {
      "cell_type": "code",
      "source": [
        "cv_pd = dt.score(x_train,y_train)"
      ],
      "metadata": {
        "id": "JTUe6ops47g7"
      },
      "execution_count": 109,
      "outputs": []
    },
    {
      "cell_type": "markdown",
      "source": [
        "Predict "
      ],
      "metadata": {
        "id": "KFoO9LZpB8h9"
      }
    },
    {
      "cell_type": "code",
      "source": [
        "y_pred = dt.predict(x_test)\n",
        "print(y_pred)"
      ],
      "metadata": {
        "colab": {
          "base_uri": "https://localhost:8080/"
        },
        "id": "nObNw_N-B-bO",
        "outputId": "5f24e287-57b1-48bb-da9b-cd2167d49d18"
      },
      "execution_count": null,
      "outputs": [
        {
          "output_type": "stream",
          "name": "stdout",
          "text": [
            "[1.30821645 1.30821645 1.30821645 ... 1.31884382 1.31402295 1.32798064]\n"
          ]
        }
      ]
    },
    {
      "cell_type": "code",
      "source": [
        "from sklearn.metrics import mean_squared_error as MSE\n",
        "mse_dt = MSE(y_test,y_pred)"
      ],
      "metadata": {
        "id": "4u883__gJcfD"
      },
      "execution_count": null,
      "outputs": []
    },
    {
      "cell_type": "code",
      "source": [
        "rmse_dt = mse_dt**(1/2)"
      ],
      "metadata": {
        "id": "nhDKftv-JmM1"
      },
      "execution_count": null,
      "outputs": []
    },
    {
      "cell_type": "code",
      "source": [
        "rmse_dt"
      ],
      "metadata": {
        "colab": {
          "base_uri": "https://localhost:8080/"
        },
        "id": "uwUkwA1LJt1T",
        "outputId": "615333f1-0ffb-4712-90d8-d13421baf041"
      },
      "execution_count": null,
      "outputs": [
        {
          "output_type": "execute_result",
          "data": {
            "text/plain": [
              "0.06515691333542693"
            ]
          },
          "metadata": {},
          "execution_count": 46
        }
      ]
    },
    {
      "cell_type": "code",
      "source": [
        "from sklearn.metrics import r2_score \n",
        "r2_score(y_test,y_pred)"
      ],
      "metadata": {
        "colab": {
          "base_uri": "https://localhost:8080/"
        },
        "id": "zK4ml26VL6sG",
        "outputId": "3cc4f690-4bfb-48bb-b8d0-418de04971aa"
      },
      "execution_count": null,
      "outputs": [
        {
          "output_type": "execute_result",
          "data": {
            "text/plain": [
              "0.005450385670306868"
            ]
          },
          "metadata": {},
          "execution_count": 48
        }
      ]
    },
    {
      "cell_type": "markdown",
      "source": [
        "Plotting "
      ],
      "metadata": {
        "id": "FQvQwfKdKQ-s"
      }
    },
    {
      "cell_type": "code",
      "source": [
        "import matplotlib.pyplot as plt \n",
        "plt.figure(figsize=(15,10))\n",
        "plt.scatter(y_test,y_pred)\n",
        "plt.xlabel('actual')\n",
        "plt.ylabel('predicted')\n",
        "plt.title('Actual vs predicted')"
      ],
      "metadata": {
        "colab": {
          "base_uri": "https://localhost:8080/",
          "height": 639
        },
        "id": "ZoH0__THKP6Y",
        "outputId": "d2616697-391d-4e62-d0af-2539533ce6e7"
      },
      "execution_count": null,
      "outputs": [
        {
          "output_type": "execute_result",
          "data": {
            "text/plain": [
              "Text(0.5, 1.0, 'Actual vs predicted')"
            ]
          },
          "metadata": {},
          "execution_count": 47
        },
        {
          "output_type": "display_data",
          "data": {
            "text/plain": [
              "<Figure size 1080x720 with 1 Axes>"
            ],
            "image/png": "[encoded data removed]"
          },
          "metadata": {
            "needs_background": "light"
          }
        }
      ]
    },
    {
      "cell_type": "markdown",
      "source": [
        "Random Forest Regressor"
      ],
      "metadata": {
        "id": "Co0nGDQSNFQT"
      }
    },
    {
      "cell_type": "code",
      "source": [
        "from sklearn.ensemble import RandomForestRegressor\n",
        "from sklearn.datasets import make_regression"
      ],
      "metadata": {
        "id": "FvMVeYmgNI5R"
      },
      "execution_count": 36,
      "outputs": []
    },
    {
      "cell_type": "code",
      "source": [
        "x_train, y_train = make_regression(n_features=2, n_informative=2,random_state=0, shuffle=False)\n",
        "regr = RandomForestRegressor(max_depth=2, random_state=0)\n",
        "regr.fit(x_train, y_train)"
      ],
      "metadata": {
        "colab": {
          "base_uri": "https://localhost:8080/"
        },
        "id": "n3rWbsFgN2RW",
        "outputId": "e15cd083-9457-436f-e5ef-366153c0291c"
      },
      "execution_count": 110,
      "outputs": [
        {
          "output_type": "execute_result",
          "data": {
            "text/plain": [
              "RandomForestRegressor(max_depth=2, random_state=0)"
            ]
          },
          "metadata": {},
          "execution_count": 110
        }
      ]
    },
    {
      "cell_type": "code",
      "source": [
        "cx_pdf = regr.score(x_train, y_train, sample_weight=None)"
      ],
      "metadata": {
        "id": "d_ohaFsp0G56"
      },
      "execution_count": 111,
      "outputs": []
    },
    {
      "cell_type": "markdown",
      "source": [
        "Random Forest Classifier"
      ],
      "metadata": {
        "id": "d_VTV29k6kwn"
      }
    },
    {
      "cell_type": "markdown",
      "source": [
        "Labelling"
      ],
      "metadata": {
        "id": "RNxtI0QaRF8S"
      }
    },
    {
      "cell_type": "code",
      "source": [
        "import math\n",
        "forecast_out = int(math.ceil(0.05 * len(df1))) # forcasting out 5% of the entire dataset\n",
        "print(forecast_out)\n",
        "df1['label'] = df1['close'].shift(-forecast_out)\n",
        "df1['label1'] = df1['macd'].shift(-forecast_out)"
      ],
      "metadata": {
        "colab": {
          "base_uri": "https://localhost:8080/"
        },
        "id": "bvsNQJKkQR1q",
        "outputId": "0c8cd6d4-a878-477f-ed62-cd7dc7b91471"
      },
      "execution_count": 89,
      "outputs": [
        {
          "output_type": "stream",
          "name": "stdout",
          "text": [
            "5000\n"
          ]
        }
      ]
    },
    {
      "cell_type": "code",
      "source": [
        "df2 = df1[['close','macd','label']]"
      ],
      "metadata": {
        "id": "tNa8MoUZSplJ"
      },
      "execution_count": 91,
      "outputs": []
    },
    {
      "cell_type": "code",
      "source": [
        "df2['label'].fillna(0, inplace=True)"
      ],
      "metadata": {
        "colab": {
          "base_uri": "https://localhost:8080/"
        },
        "id": "xHhm8Z48S5Ey",
        "outputId": "261cf50d-ea4f-441e-ee32-0af3fcdace55"
      },
      "execution_count": 92,
      "outputs": [
        {
          "output_type": "stream",
          "name": "stderr",
          "text": [
            "/usr/local/lib/python3.7/dist-packages/pandas/core/generic.py:6392: SettingWithCopyWarning: \n",
            "A value is trying to be set on a copy of a slice from a DataFrame\n",
            "\n",
            "See the caveats in the documentation: https://pandas.pydata.org/pandas-docs/stable/user_guide/indexing.html#returning-a-view-versus-a-copy\n",
            "  return self._update_inplace(result)\n"
          ]
        }
      ]
    },
    {
      "cell_type": "code",
      "source": [
        "df2"
      ],
      "metadata": {
        "colab": {
          "base_uri": "https://localhost:8080/",
          "height": 424
        },
        "id": "gqjSccb05xBt",
        "outputId": "e5ba3db7-3c2c-4a6c-abca-6665e0b0332d"
      },
      "execution_count": 94,
      "outputs": [
        {
          "output_type": "execute_result",
          "data": {
            "text/plain": [
              "         close      macd    label\n",
              "0      1.49030  0.000221  1.41688\n",
              "1      1.49108  0.000221  1.41614\n",
              "2      1.49041  0.000221  1.41640\n",
              "3      1.48994  0.000221  1.41668\n",
              "4      1.49010  0.000221  1.41648\n",
              "...        ...       ...      ...\n",
              "99995  1.31191 -0.000297  0.00000\n",
              "99996  1.31209 -0.000218  0.00000\n",
              "99997  1.31168 -0.000186  0.00000\n",
              "99998  1.31184 -0.000146  0.00000\n",
              "99999  1.31115 -0.000168  0.00000\n",
              "\n",
              "[100000 rows x 3 columns]"
            ],
            "text/html": [
              "\n",
              "  <div id=\"df-7209160d-28de-4fa9-a953-3caf3769c5bb\">\n",
              "    <div class=\"colab-df-container\">\n",
              "      <div>\n",
              "<style scoped>\n",
              "    .dataframe tbody tr th:only-of-type {\n",
              "        vertical-align: middle;\n",
              "    }\n",
              "\n",
              "    .dataframe tbody tr th {\n",
              "        vertical-align: top;\n",
              "    }\n",
              "\n",
              "    .dataframe thead th {\n",
              "        text-align: right;\n",
              "    }\n",
              "</style>\n",
              "<table border=\"1\" class=\"dataframe\">\n",
              "  <thead>\n",
              "    <tr style=\"text-align: right;\">\n",
              "      <th></th>\n",
              "      <th>close</th>\n",
              "      <th>macd</th>\n",
              "      <th>label</th>\n",
              "    </tr>\n",
              "  </thead>\n",
              "  <tbody>\n",
              "    <tr>\n",
              "      <th>0</th>\n",
              "      <td>1.49030</td>\n",
              "      <td>0.000221</td>\n",
              "      <td>1.41688</td>\n",
              "    </tr>\n",
              "    <tr>\n",
              "      <th>1</th>\n",
              "      <td>1.49108</td>\n",
              "      <td>0.000221</td>\n",
              "      <td>1.41614</td>\n",
              "    </tr>\n",
              "    <tr>\n",
              "      <th>2</th>\n",
              "      <td>1.49041</td>\n",
              "      <td>0.000221</td>\n",
              "      <td>1.41640</td>\n",
              "    </tr>\n",
              "    <tr>\n",
              "      <th>3</th>\n",
              "      <td>1.48994</td>\n",
              "      <td>0.000221</td>\n",
              "      <td>1.41668</td>\n",
              "    </tr>\n",
              "    <tr>\n",
              "      <th>4</th>\n",
              "      <td>1.49010</td>\n",
              "      <td>0.000221</td>\n",
              "      <td>1.41648</td>\n",
              "    </tr>\n",
              "    <tr>\n",
              "      <th>...</th>\n",
              "      <td>...</td>\n",
              "      <td>...</td>\n",
              "      <td>...</td>\n",
              "    </tr>\n",
              "    <tr>\n",
              "      <th>99995</th>\n",
              "      <td>1.31191</td>\n",
              "      <td>-0.000297</td>\n",
              "      <td>0.00000</td>\n",
              "    </tr>\n",
              "    <tr>\n",
              "      <th>99996</th>\n",
              "      <td>1.31209</td>\n",
              "      <td>-0.000218</td>\n",
              "      <td>0.00000</td>\n",
              "    </tr>\n",
              "    <tr>\n",
              "      <th>99997</th>\n",
              "      <td>1.31168</td>\n",
              "      <td>-0.000186</td>\n",
              "      <td>0.00000</td>\n",
              "    </tr>\n",
              "    <tr>\n",
              "      <th>99998</th>\n",
              "      <td>1.31184</td>\n",
              "      <td>-0.000146</td>\n",
              "      <td>0.00000</td>\n",
              "    </tr>\n",
              "    <tr>\n",
              "      <th>99999</th>\n",
              "      <td>1.31115</td>\n",
              "      <td>-0.000168</td>\n",
              "      <td>0.00000</td>\n",
              "    </tr>\n",
              "  </tbody>\n",
              "</table>\n",
              "<p>100000 rows × 3 columns</p>\n",
              "</div>\n",
              "      <button class=\"colab-df-convert\" onclick=\"convertToInteractive('df-7209160d-28de-4fa9-a953-3caf3769c5bb')\"\n",
              "              title=\"Convert this dataframe to an interactive table.\"\n",
              "              style=\"display:none;\">\n",
              "        \n",
              "  <svg xmlns=\"http://www.w3.org/2000/svg\" height=\"24px\"viewBox=\"0 0 24 24\"\n",
              "       width=\"24px\">\n",
              "    <path d=\"M0 0h24v24H0V0z\" fill=\"none\"/>\n",
              "    <path d=\"M18.56 5.44l.94 2.06.94-2.06 2.06-.94-2.06-.94-.94-2.06-.94 2.06-2.06.94zm-11 1L8.5 8.5l.94-2.06 2.06-.94-2.06-.94L8.5 2.5l-.94 2.06-2.06.94zm10 10l.94 2.06.94-2.06 2.06-.94-2.06-.94-.94-2.06-.94 2.06-2.06.94z\"/><path d=\"M17.41 7.96l-1.37-1.37c-.4-.4-.92-.59-1.43-.59-.52 0-1.04.2-1.43.59L10.3 9.45l-7.72 7.72c-.78.78-.78 2.05 0 2.83L4 21.41c.39.39.9.59 1.41.59.51 0 1.02-.2 1.41-.59l7.78-7.78 2.81-2.81c.8-.78.8-2.07 0-2.86zM5.41 20L4 18.59l7.72-7.72 1.47 1.35L5.41 20z\"/>\n",
              "  </svg>\n",
              "      </button>\n",
              "      \n",
              "  <style>\n",
              "    .colab-df-container {\n",
              "      display:flex;\n",
              "      flex-wrap:wrap;\n",
              "      gap: 12px;\n",
              "    }\n",
              "\n",
              "    .colab-df-convert {\n",
              "      background-color: #E8F0FE;\n",
              "      border: none;\n",
              "      border-radius: 50%;\n",
              "      cursor: pointer;\n",
              "      display: none;\n",
              "      fill: #1967D2;\n",
              "      height: 32px;\n",
              "      padding: 0 0 0 0;\n",
              "      width: 32px;\n",
              "    }\n",
              "\n",
              "    .colab-df-convert:hover {\n",
              "      background-color: #E2EBFA;\n",
              "      box-shadow: 0px 1px 2px rgba(60, 64, 67, 0.3), 0px 1px 3px 1px rgba(60, 64, 67, 0.15);\n",
              "      fill: #174EA6;\n",
              "    }\n",
              "\n",
              "    [theme=dark] .colab-df-convert {\n",
              "      background-color: #3B4455;\n",
              "      fill: #D2E3FC;\n",
              "    }\n",
              "\n",
              "    [theme=dark] .colab-df-convert:hover {\n",
              "      background-color: #434B5C;\n",
              "      box-shadow: 0px 1px 3px 1px rgba(0, 0, 0, 0.15);\n",
              "      filter: drop-shadow(0px 1px 2px rgba(0, 0, 0, 0.3));\n",
              "      fill: #FFFFFF;\n",
              "    }\n",
              "  </style>\n",
              "\n",
              "      <script>\n",
              "        const buttonEl =\n",
              "          document.querySelector('#df-7209160d-28de-4fa9-a953-3caf3769c5bb button.colab-df-convert');\n",
              "        buttonEl.style.display =\n",
              "          google.colab.kernel.accessAllowed ? 'block' : 'none';\n",
              "\n",
              "        async function convertToInteractive(key) {\n",
              "          const element = document.querySelector('#df-7209160d-28de-4fa9-a953-3caf3769c5bb');\n",
              "          const dataTable =\n",
              "            await google.colab.kernel.invokeFunction('convertToInteractive',\n",
              "                                                     [key], {});\n",
              "          if (!dataTable) return;\n",
              "\n",
              "          const docLinkHtml = 'Like what you see? Visit the ' +\n",
              "            '<a target=\"_blank\" href=https://colab.research.google.com/notebooks/data_table.ipynb>data table notebook</a>'\n",
              "            + ' to learn more about interactive tables.';\n",
              "          element.innerHTML = '';\n",
              "          dataTable['output_type'] = 'display_data';\n",
              "          await google.colab.output.renderOutput(dataTable, element);\n",
              "          const docLink = document.createElement('div');\n",
              "          docLink.innerHTML = docLinkHtml;\n",
              "          element.appendChild(docLink);\n",
              "        }\n",
              "      </script>\n",
              "    </div>\n",
              "  </div>\n",
              "  "
            ]
          },
          "metadata": {},
          "execution_count": 94
        }
      ]
    },
    {
      "cell_type": "code",
      "source": [
        "x = np.array(df2.drop(['label'], axis = 1).values)\n",
        "y = df2['label'].values"
      ],
      "metadata": {
        "id": "2jmrGybk5mDT"
      },
      "execution_count": 95,
      "outputs": []
    },
    {
      "cell_type": "code",
      "source": [
        "from sklearn.model_selection import train_test_split\n",
        "x_train, x_test, y_train, y_test = train_test_split(x, y, test_size=0.3, random_state=0)"
      ],
      "metadata": {
        "id": "EFpTeRox5mF1"
      },
      "execution_count": 96,
      "outputs": []
    },
    {
      "cell_type": "code",
      "source": [
        "from sklearn.ensemble import RandomForestRegressor\n",
        "clf = RandomForestRegressor(max_depth=2, random_state=0) #used regressor as classifier is not good in working with floats \n",
        "model = clf.fit(x_train, y_train)\n",
        "rdmf_sq = model.score(x_test,y_test)"
      ],
      "metadata": {
        "id": "uQ7IkrR55hXV"
      },
      "execution_count": 98,
      "outputs": []
    },
    {
      "cell_type": "code",
      "source": [
        "rdmf_sq"
      ],
      "metadata": {
        "colab": {
          "base_uri": "https://localhost:8080/"
        },
        "id": "gjQzifds6akC",
        "outputId": "cbb8a9ca-0897-4564-80ec-a4c096a5299e"
      },
      "execution_count": 99,
      "outputs": [
        {
          "output_type": "execute_result",
          "data": {
            "text/plain": [
              "0.11287758475504672"
            ]
          },
          "metadata": {},
          "execution_count": 99
        }
      ]
    },
    {
      "cell_type": "markdown",
      "source": [
        "Final Conclusion"
      ],
      "metadata": {
        "id": "IGuLan_669Yn"
      }
    },
    {
      "cell_type": "code",
      "source": [
        "names = ['Linear Regressor', 'Decision Tree - Regressor', 'Random Forest Regressor', 'Random Forest Classifier']\n",
        "columns = ['model', 'accuracy']\n",
        "scores = [r_sq, cv_pd,cx_pdf, rdmf_sq]\n",
        "alg_vs_score = pd.DataFrame([[x, y] for x, y in zip(names, scores)], columns = columns)\n",
        "alg_vs_score"
      ],
      "metadata": {
        "colab": {
          "base_uri": "https://localhost:8080/",
          "height": 175
        },
        "id": "8C2OIeQF68l-",
        "outputId": "1fe0582f-0f14-4b9d-8a51-46fc9fe850d6"
      },
      "execution_count": 112,
      "outputs": [
        {
          "output_type": "execute_result",
          "data": {
            "text/plain": [
              "                       model  accuracy\n",
              "0           Linear Regressor  0.000097\n",
              "1  Decision Tree - Regressor  0.008508\n",
              "2    Random Forest Regressor  0.905842\n",
              "3   Random Forest Classifier  0.112878"
            ],
            "text/html": [
              "\n",
              "  <div id=\"df-1041a41b-e9a6-4925-820f-bd589a6ad4d2\">\n",
              "    <div class=\"colab-df-container\">\n",
              "      <div>\n",
              "<style scoped>\n",
              "    .dataframe tbody tr th:only-of-type {\n",
              "        vertical-align: middle;\n",
              "    }\n",
              "\n",
              "    .dataframe tbody tr th {\n",
              "        vertical-align: top;\n",
              "    }\n",
              "\n",
              "    .dataframe thead th {\n",
              "        text-align: right;\n",
              "    }\n",
              "</style>\n",
              "<table border=\"1\" class=\"dataframe\">\n",
              "  <thead>\n",
              "    <tr style=\"text-align: right;\">\n",
              "      <th></th>\n",
              "      <th>model</th>\n",
              "      <th>accuracy</th>\n",
              "    </tr>\n",
              "  </thead>\n",
              "  <tbody>\n",
              "    <tr>\n",
              "      <th>0</th>\n",
              "      <td>Linear Regressor</td>\n",
              "      <td>0.000097</td>\n",
              "    </tr>\n",
              "    <tr>\n",
              "      <th>1</th>\n",
              "      <td>Decision Tree - Regressor</td>\n",
              "      <td>0.008508</td>\n",
              "    </tr>\n",
              "    <tr>\n",
              "      <th>2</th>\n",
              "      <td>Random Forest Regressor</td>\n",
              "      <td>0.905842</td>\n",
              "    </tr>\n",
              "    <tr>\n",
              "      <th>3</th>\n",
              "      <td>Random Forest Classifier</td>\n",
              "      <td>0.112878</td>\n",
              "    </tr>\n",
              "  </tbody>\n",
              "</table>\n",
              "</div>\n",
              "      <button class=\"colab-df-convert\" onclick=\"convertToInteractive('df-1041a41b-e9a6-4925-820f-bd589a6ad4d2')\"\n",
              "              title=\"Convert this dataframe to an interactive table.\"\n",
              "              style=\"display:none;\">\n",
              "        \n",
              "  <svg xmlns=\"http://www.w3.org/2000/svg\" height=\"24px\"viewBox=\"0 0 24 24\"\n",
              "       width=\"24px\">\n",
              "    <path d=\"M0 0h24v24H0V0z\" fill=\"none\"/>\n",
              "    <path d=\"M18.56 5.44l.94 2.06.94-2.06 2.06-.94-2.06-.94-.94-2.06-.94 2.06-2.06.94zm-11 1L8.5 8.5l.94-2.06 2.06-.94-2.06-.94L8.5 2.5l-.94 2.06-2.06.94zm10 10l.94 2.06.94-2.06 2.06-.94-2.06-.94-.94-2.06-.94 2.06-2.06.94z\"/><path d=\"M17.41 7.96l-1.37-1.37c-.4-.4-.92-.59-1.43-.59-.52 0-1.04.2-1.43.59L10.3 9.45l-7.72 7.72c-.78.78-.78 2.05 0 2.83L4 21.41c.39.39.9.59 1.41.59.51 0 1.02-.2 1.41-.59l7.78-7.78 2.81-2.81c.8-.78.8-2.07 0-2.86zM5.41 20L4 18.59l7.72-7.72 1.47 1.35L5.41 20z\"/>\n",
              "  </svg>\n",
              "      </button>\n",
              "      \n",
              "  <style>\n",
              "    .colab-df-container {\n",
              "      display:flex;\n",
              "      flex-wrap:wrap;\n",
              "      gap: 12px;\n",
              "    }\n",
              "\n",
              "    .colab-df-convert {\n",
              "      background-color: #E8F0FE;\n",
              "      border: none;\n",
              "      border-radius: 50%;\n",
              "      cursor: pointer;\n",
              "      display: none;\n",
              "      fill: #1967D2;\n",
              "      height: 32px;\n",
              "      padding: 0 0 0 0;\n",
              "      width: 32px;\n",
              "    }\n",
              "\n",
              "    .colab-df-convert:hover {\n",
              "      background-color: #E2EBFA;\n",
              "      box-shadow: 0px 1px 2px rgba(60, 64, 67, 0.3), 0px 1px 3px 1px rgba(60, 64, 67, 0.15);\n",
              "      fill: #174EA6;\n",
              "    }\n",
              "\n",
              "    [theme=dark] .colab-df-convert {\n",
              "      background-color: #3B4455;\n",
              "      fill: #D2E3FC;\n",
              "    }\n",
              "\n",
              "    [theme=dark] .colab-df-convert:hover {\n",
              "      background-color: #434B5C;\n",
              "      box-shadow: 0px 1px 3px 1px rgba(0, 0, 0, 0.15);\n",
              "      filter: drop-shadow(0px 1px 2px rgba(0, 0, 0, 0.3));\n",
              "      fill: #FFFFFF;\n",
              "    }\n",
              "  </style>\n",
              "\n",
              "      <script>\n",
              "        const buttonEl =\n",
              "          document.querySelector('#df-1041a41b-e9a6-4925-820f-bd589a6ad4d2 button.colab-df-convert');\n",
              "        buttonEl.style.display =\n",
              "          google.colab.kernel.accessAllowed ? 'block' : 'none';\n",
              "\n",
              "        async function convertToInteractive(key) {\n",
              "          const element = document.querySelector('#df-1041a41b-e9a6-4925-820f-bd589a6ad4d2');\n",
              "          const dataTable =\n",
              "            await google.colab.kernel.invokeFunction('convertToInteractive',\n",
              "                                                     [key], {});\n",
              "          if (!dataTable) return;\n",
              "\n",
              "          const docLinkHtml = 'Like what you see? Visit the ' +\n",
              "            '<a target=\"_blank\" href=https://colab.research.google.com/notebooks/data_table.ipynb>data table notebook</a>'\n",
              "            + ' to learn more about interactive tables.';\n",
              "          element.innerHTML = '';\n",
              "          dataTable['output_type'] = 'display_data';\n",
              "          await google.colab.output.renderOutput(dataTable, element);\n",
              "          const docLink = document.createElement('div');\n",
              "          docLink.innerHTML = docLinkHtml;\n",
              "          element.appendChild(docLink);\n",
              "        }\n",
              "      </script>\n",
              "    </div>\n",
              "  </div>\n",
              "  "
            ]
          },
          "metadata": {},
          "execution_count": 112
        }
      ]
    }
  ]
}